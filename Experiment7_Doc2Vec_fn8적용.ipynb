{
 "cells": [
  {
   "cell_type": "code",
   "execution_count": 1,
   "metadata": {},
   "outputs": [],
   "source": [
    "import pandas as pd\n",
    "from gensim import utils\n",
    "from gensim.models.doc2vec import TaggedDocument\n",
    "from gensim.models import Doc2Vec\n",
    "from gensim.parsing.preprocessing import preprocess_string, remove_stopwords\n",
    "import random\n",
    "\n",
    "import warnings\n",
    "warnings.filterwarnings(\"ignore\")"
   ]
  },
  {
   "cell_type": "code",
   "execution_count": 2,
   "metadata": {},
   "outputs": [],
   "source": [
    "pd.set_option('display.max_colwidth', -1)"
   ]
  },
  {
   "cell_type": "code",
   "execution_count": null,
   "metadata": {},
   "outputs": [],
   "source": []
  },
  {
   "cell_type": "markdown",
   "metadata": {},
   "source": [
    "# Load Sizo Lines"
   ]
  },
  {
   "cell_type": "code",
   "execution_count": 3,
   "metadata": {
    "scrolled": true
   },
   "outputs": [
    {
     "data": {
      "text/html": [
       "<div>\n",
       "<style scoped>\n",
       "    .dataframe tbody tr th:only-of-type {\n",
       "        vertical-align: middle;\n",
       "    }\n",
       "\n",
       "    .dataframe tbody tr th {\n",
       "        vertical-align: top;\n",
       "    }\n",
       "\n",
       "    .dataframe thead th {\n",
       "        text-align: right;\n",
       "    }\n",
       "</style>\n",
       "<table border=\"1\" class=\"dataframe\">\n",
       "  <thead>\n",
       "    <tr style=\"text-align: right;\">\n",
       "      <th></th>\n",
       "      <th>Text</th>\n",
       "      <th>Line_Num</th>\n",
       "      <th>Line</th>\n",
       "      <th>Pattern</th>\n",
       "      <th>Value</th>\n",
       "    </tr>\n",
       "    <tr>\n",
       "      <th>LineNumber</th>\n",
       "      <th></th>\n",
       "      <th></th>\n",
       "      <th></th>\n",
       "      <th></th>\n",
       "      <th></th>\n",
       "    </tr>\n",
       "  </thead>\n",
       "  <tbody>\n",
       "    <tr>\n",
       "      <th>L10000011</th>\n",
       "      <td>가노라 가노라 임아 언양 단천의 풍월 강산으로 가노라 임아</td>\n",
       "      <td>1</td>\n",
       "      <td>ㄱㅏㄴㅗㄹㅏ ㄱㅏㄴㅗㄹㅏ ㅇㅣㅁㅇㅏ ㅇㅓㄴㅇㅑㅇ ㄷㅏㄴㅊㅓㄴㅇㅡㅣ ㅍㅜㅇㅇㅜㅓㄹ ㄱㅏㅇㅅㅏㄴㅇㅡㄹㅗ ㄱㅏㄴㅗㄹㅏ ㅇㅣㅁㅇㅏ</td>\n",
       "      <td>NaN</td>\n",
       "      <td>1</td>\n",
       "    </tr>\n",
       "    <tr>\n",
       "      <th>L10019081</th>\n",
       "      <td>어듸야  소 모라 가는 노랑 듸궁이 더벙 머리</td>\n",
       "      <td>1</td>\n",
       "      <td>ㅇㅓㄷㅡㅣㅇㅑ ㅺㅣㄹㅺㅣㄹ ㅅㅗ ㅁㅗㄹㅏ ㄱㅏㄴㅡㄴ ㄴㅗㄹㅏㅇ ㄷㅡㅣㄱㅜㅇㅇㅣ ㄷㅓㅂㅓㅇ ㅁㅓㄹㅣ</td>\n",
       "      <td>NaN</td>\n",
       "      <td>1</td>\n",
       "    </tr>\n",
       "    <tr>\n",
       "      <th>L10022821</th>\n",
       "      <td>이년아 말 듯거라 굽고 나마 쟈질년아</td>\n",
       "      <td>1</td>\n",
       "      <td>ㅇㅣㄴㅕㄴㅇㅏ ㅁㅏㄹ ㄷㅡㅅㄱㅓㄹㅏ ㄱㅜㅂㄱㅗ ㄴㅏㅁㅏ ㅈㅑㅈㅣㄹㄴㅕㄴㅇㅏ</td>\n",
       "      <td>NaN</td>\n",
       "      <td>1</td>\n",
       "    </tr>\n",
       "    <tr>\n",
       "      <th>L10006771</th>\n",
       "      <td>눈아눈아 머르칠 눈아 두 손 장가락으로  질너 머르칠 눈아</td>\n",
       "      <td>1</td>\n",
       "      <td>ㄴㅜㄴㅇㅏㄴㅜㄴㅇㅏ ㅁㅓㄹㅡㅊㅣㄹ ㄴㅜㄴㅇㅏ ㄷㅜ ㅅㅗㄴ ㅈㅏㅇㄱㅏㄹㅏㄱㅇㅡㄹㅗ ㅺㅗㄱ ㅈㅣㄹㄴㅓ ㅁㅓㄹㅡㅊㅣㄹ ㄴㅜㄴㅇㅏ</td>\n",
       "      <td>NaN</td>\n",
       "      <td>1</td>\n",
       "    </tr>\n",
       "    <tr>\n",
       "      <th>L10007731</th>\n",
       "      <td>아 은 아 李太白이 노든 아</td>\n",
       "      <td>1</td>\n",
       "      <td>ㄷㆍㄹㅇㅏ ㅂㆍᇃㅇㅡㄴ ㄷㆍㄹㅇㅏ ㅇㅣㅌㅐㅂㅐㄱㅇㅣ ㄴㅗㄷㅡㄴ ㄷㆍㄹㅇㅏ</td>\n",
       "      <td>NaN</td>\n",
       "      <td>1</td>\n",
       "    </tr>\n",
       "    <tr>\n",
       "      <th>...</th>\n",
       "      <td>...</td>\n",
       "      <td>...</td>\n",
       "      <td>...</td>\n",
       "      <td>...</td>\n",
       "      <td>...</td>\n",
       "    </tr>\n",
       "    <tr>\n",
       "      <th>L10022011</th>\n",
       "      <td>우정워정며 歲月이 거의로다</td>\n",
       "      <td>1</td>\n",
       "      <td>ㅇㅜㅈㅓㅇㅇㅜㅓㅈㅓㅇㅎㆍㅁㅕ ㅅㅔㅇㅜㅓㄹㅇㅣ ㄱㅓㅇㅡㅣㄹㅗㄷㅏ</td>\n",
       "      <td>NaN</td>\n",
       "      <td>0</td>\n",
       "    </tr>\n",
       "    <tr>\n",
       "      <th>L10022361</th>\n",
       "      <td>渭城官 柳樹를 처음의 심근 은</td>\n",
       "      <td>1</td>\n",
       "      <td>ㅇㅜㅣㅅㅓㅇㄱㅗㅏㄴ ㅇㅠㅅㅜㄹㅡㄹ ㅊㅓㅇㅡㅁㅇㅡㅣ ㅅㅣㅁㄱㅡㄴ ㅼㅡㅇㅡㄴ</td>\n",
       "      <td>NaN</td>\n",
       "      <td>0</td>\n",
       "    </tr>\n",
       "    <tr>\n",
       "      <th>L10022711</th>\n",
       "      <td>銀河에 물이 지니 烏鵲橋 단말가</td>\n",
       "      <td>1</td>\n",
       "      <td>ㅇㅡㄴㅎㅏㅇㅔ ㅁㅜㄹㅇㅣ ㅈㅣㄴㅣ ㅇㅗㅈㅏㄱㄱㅛ ㅼㅡㄷㅏㄴㅁㅏㄹㄱㅏ</td>\n",
       "      <td>NaN</td>\n",
       "      <td>0</td>\n",
       "    </tr>\n",
       "    <tr>\n",
       "      <th>L10023081</th>\n",
       "      <td>니 몸에 가진 病이 두 가지 아니로다</td>\n",
       "      <td>1</td>\n",
       "      <td>ㄴㅣ ㅁㅗㅁㅇㅔ ㄱㅏㅈㅣㄴ ㅂㅕㅇㅇㅣ ㅎㆍㄴㄷㅜ ㄱㅏㅈㅣ ㅇㅏㄴㅣㄹㅗㄷㅏ</td>\n",
       "      <td>NaN</td>\n",
       "      <td>0</td>\n",
       "    </tr>\n",
       "    <tr>\n",
       "      <th>L10023431</th>\n",
       "      <td>離別이 불이 되니 肝腸을 노라</td>\n",
       "      <td>1</td>\n",
       "      <td>ㅇㅣㅂㅕㄹㅇㅣ ㅂㅜㄹㅇㅣ ㄷㅗㅣㄴㅣ ㄱㅏㄴㅈㅏㅇㅇㅡㄹ ㅌㆍㄴㅗㅁㆎㄹㅏ</td>\n",
       "      <td>NaN</td>\n",
       "      <td>0</td>\n",
       "    </tr>\n",
       "  </tbody>\n",
       "</table>\n",
       "<p>136 rows × 5 columns</p>\n",
       "</div>"
      ],
      "text/plain": [
       "                                         Text  Line_Num  \\\n",
       "LineNumber                                                \n",
       "L10000011   가노라 가노라 임아 언양 단천의 풍월 강산으로 가노라 임아   1          \n",
       "L10019081   어듸야  소 모라 가는 노랑 듸궁이 더벙 머리        1          \n",
       "L10022821   이년아 말 듯거라 굽고 나마 쟈질년아               1          \n",
       "L10006771   눈아눈아 머르칠 눈아 두 손 장가락으로  질너 머르칠 눈아  1          \n",
       "L10007731   아 은 아 李太白이 노든 아                1          \n",
       "...                                       ... ..          \n",
       "L10022011   우정워정며 歲月이 거의로다                    1          \n",
       "L10022361   渭城官 柳樹를 처음의 심근 은                  1          \n",
       "L10022711   銀河에 물이 지니 烏鵲橋 단말가                 1          \n",
       "L10023081   니 몸에 가진 病이 두 가지 아니로다              1          \n",
       "L10023431   離別이 불이 되니 肝腸을 노라                 1          \n",
       "\n",
       "                                                                            Line  \\\n",
       "LineNumber                                                                         \n",
       "L10000011   ㄱㅏㄴㅗㄹㅏ ㄱㅏㄴㅗㄹㅏ ㅇㅣㅁㅇㅏ ㅇㅓㄴㅇㅑㅇ ㄷㅏㄴㅊㅓㄴㅇㅡㅣ ㅍㅜㅇㅇㅜㅓㄹ ㄱㅏㅇㅅㅏㄴㅇㅡㄹㅗ ㄱㅏㄴㅗㄹㅏ ㅇㅣㅁㅇㅏ   \n",
       "L10019081   ㅇㅓㄷㅡㅣㅇㅑ ㅺㅣㄹㅺㅣㄹ ㅅㅗ ㅁㅗㄹㅏ ㄱㅏㄴㅡㄴ ㄴㅗㄹㅏㅇ ㄷㅡㅣㄱㅜㅇㅇㅣ ㄷㅓㅂㅓㅇ ㅁㅓㄹㅣ                 \n",
       "L10022821   ㅇㅣㄴㅕㄴㅇㅏ ㅁㅏㄹ ㄷㅡㅅㄱㅓㄹㅏ ㄱㅜㅂㄱㅗ ㄴㅏㅁㅏ ㅈㅑㅈㅣㄹㄴㅕㄴㅇㅏ                              \n",
       "L10006771   ㄴㅜㄴㅇㅏㄴㅜㄴㅇㅏ ㅁㅓㄹㅡㅊㅣㄹ ㄴㅜㄴㅇㅏ ㄷㅜ ㅅㅗㄴ ㅈㅏㅇㄱㅏㄹㅏㄱㅇㅡㄹㅗ ㅺㅗㄱ ㅈㅣㄹㄴㅓ ㅁㅓㄹㅡㅊㅣㄹ ㄴㅜㄴㅇㅏ   \n",
       "L10007731   ㄷㆍㄹㅇㅏ ㅂㆍᇃㅇㅡㄴ ㄷㆍㄹㅇㅏ ㅇㅣㅌㅐㅂㅐㄱㅇㅣ ㄴㅗㄷㅡㄴ ㄷㆍㄹㅇㅏ                               \n",
       "...                                                                          ...   \n",
       "L10022011   ㅇㅜㅈㅓㅇㅇㅜㅓㅈㅓㅇㅎㆍㅁㅕ ㅅㅔㅇㅜㅓㄹㅇㅣ ㄱㅓㅇㅡㅣㄹㅗㄷㅏ                                     \n",
       "L10022361   ㅇㅜㅣㅅㅓㅇㄱㅗㅏㄴ ㅇㅠㅅㅜㄹㅡㄹ ㅊㅓㅇㅡㅁㅇㅡㅣ ㅅㅣㅁㄱㅡㄴ ㅼㅡㅇㅡㄴ                               \n",
       "L10022711   ㅇㅡㄴㅎㅏㅇㅔ ㅁㅜㄹㅇㅣ ㅈㅣㄴㅣ ㅇㅗㅈㅏㄱㄱㅛ ㅼㅡㄷㅏㄴㅁㅏㄹㄱㅏ                                  \n",
       "L10023081   ㄴㅣ ㅁㅗㅁㅇㅔ ㄱㅏㅈㅣㄴ ㅂㅕㅇㅇㅣ ㅎㆍㄴㄷㅜ ㄱㅏㅈㅣ ㅇㅏㄴㅣㄹㅗㄷㅏ                               \n",
       "L10023431   ㅇㅣㅂㅕㄹㅇㅣ ㅂㅜㄹㅇㅣ ㄷㅗㅣㄴㅣ ㄱㅏㄴㅈㅏㅇㅇㅡㄹ ㅌㆍㄴㅗㅁㆎㄹㅏ                                 \n",
       "\n",
       "           Pattern  Value  \n",
       "LineNumber                 \n",
       "L10000011   NaN     1      \n",
       "L10019081   NaN     1      \n",
       "L10022821   NaN     1      \n",
       "L10006771   NaN     1      \n",
       "L10007731   NaN     1      \n",
       "...         ...    ..      \n",
       "L10022011   NaN     0      \n",
       "L10022361   NaN     0      \n",
       "L10022711   NaN     0      \n",
       "L10023081   NaN     0      \n",
       "L10023431   NaN     0      \n",
       "\n",
       "[136 rows x 5 columns]"
      ]
     },
     "execution_count": 3,
     "metadata": {},
     "output_type": "execute_result"
    }
   ],
   "source": [
    "import numpy as np\n",
    "import pandas as pd\n",
    "import os\n",
    "\n",
    "base_dir = 'D:/Data'\n",
    "excel_file = 'N68_2.xlsx'\n",
    "excel_dir = os.path.join(base_dir, excel_file)\n",
    "\n",
    "lines_df = pd.read_excel(excel_dir, encoding = 'ISO-8859-1',\n",
    "                              sheet_name = 'Sheet1', \n",
    "                              header = 0, \n",
    "                              names = ['LineNumber','Text','Line_Num','Line', 'Pattern','Value'], \n",
    "                              dtype = { 'LineNumber': str, \n",
    "                                        'Line_Num': np.int64, \n",
    "                                        'Text': str, \n",
    "                                        'Line': str, \n",
    "                                        'Pattern': str, \n",
    "                                        'Value': np.int64 \n",
    "                                       }, \n",
    "                              index_col = 'LineNumber', \n",
    "                              na_values = 'NaN', \n",
    "                              comment = '#')\n",
    "lines_df"
   ]
  },
  {
   "cell_type": "code",
   "execution_count": 4,
   "metadata": {},
   "outputs": [
    {
     "data": {
      "text/plain": [
       "136"
      ]
     },
     "execution_count": 4,
     "metadata": {},
     "output_type": "execute_result"
    }
   ],
   "source": [
    "len(lines_df)"
   ]
  },
  {
   "cell_type": "code",
   "execution_count": 5,
   "metadata": {
    "scrolled": true
   },
   "outputs": [
    {
     "data": {
      "text/plain": [
       "Text        136\n",
       "Line_Num    1  \n",
       "Line        135\n",
       "Pattern     0  \n",
       "Value       2  \n",
       "dtype: int64"
      ]
     },
     "execution_count": 5,
     "metadata": {},
     "output_type": "execute_result"
    }
   ],
   "source": [
    "lines_df.nunique()"
   ]
  },
  {
   "cell_type": "markdown",
   "metadata": {},
   "source": [
    "# Fn8 : to_word_chunk8"
   ]
  },
  {
   "cell_type": "code",
   "execution_count": 6,
   "metadata": {},
   "outputs": [],
   "source": [
    "# 함수 : New Syllable centered word chunks(1개의 문장으로 만듦) - Train 용\n",
    "# rule 1 : vowel + Blank(\"B로 표시\") - 하나의 문장으로 만들기 위해 빈칸 더해 줌\n",
    "# rule 2 : 2-5개 음절 chunk\n",
    "# 중첩시킨 어절말음소\n",
    "\n",
    "def to_word_chunk8(text_list): \n",
    "    test_list_new = []\n",
    "    for each_item in text_list:\n",
    "        each_list = each_item.split() \n",
    "        d=[]\n",
    "        e =\"\"    \n",
    "        for each_word in each_list:\n",
    "            if len(each_word)/3 < 1.7:\n",
    "                e+=each_word[:3]+\" \"   \n",
    "                e+=each_word[3:-2]+\" \" \n",
    "                e+=each_word[-2:]+\"B \"           \n",
    "                e+=each_word[-1:]+\"B \"   # 중첩시킨 어절말음소\n",
    "            \n",
    "            elif len(each_word)/3 >= 1.7 and  len(each_word)/3 < 3:\n",
    "                e+=each_word[:3]+\" \" \n",
    "                e+=each_word[3:-2]+\" \"\n",
    "                e+=each_word[-2:]+\"B \"   \n",
    "                e+=each_word[-1:]+\"B \"   # 중첩시킨 어절말음소\n",
    "            elif len(each_word)/3 >=3 and len(each_word)/3 <5:\n",
    "                e+=each_word[:3]+\" \"   \n",
    "                e+=each_word[3:-4]+\" \"       \n",
    "                e+=each_word[-4:-2]+\" \"\n",
    "                e+=each_word[-2:]+\"B \"   \n",
    "                e+=each_word[-1:]+\"B \"   # 중첩시킨 어절말음소\n",
    "            elif len(each_word)/3 >=5 and len(each_word)/3 <8:\n",
    "                e+=each_word[:3]+\" \"   \n",
    "                e+=each_word[3:5]+\" \"        \n",
    "                e+=each_word[5:7]+\" \" \n",
    "                e+=each_word[7:-2]+\" \"\n",
    "                e+=each_word[-2:]+\"B \"   \n",
    "                e+=each_word[-1:]+\"B \"   # 중첩시킨 어절말음소\n",
    "            elif len(each_word)/3 >=8 and len(each_word)/3 <11:\n",
    "                e+=each_word[:3]+\" \"   \n",
    "                e+=each_word[3:5]+\" \"  \n",
    "                e+=each_word[5:8]+\" \" \n",
    "                e+=each_word[8:12]+\" \"\n",
    "                e+=each_word[12:15]+\" \" \n",
    "                e+=each_word[15:19]+\" \"\n",
    "                e+=each_word[19:-2]+\" \"\n",
    "                e+=each_word[-2:]+\"B \"   \n",
    "                e+=each_word[-1:]+\"B \"   # 중첩시킨 어절말음소\n",
    "            else: \n",
    "                e+=each_word[:3]+\" \" \n",
    "                e+=each_word[3:5]+\" \"    \n",
    "                e+=each_word[5:8]+\" \" \n",
    "                e+=each_word[8:12]+\" \"\n",
    "                e+=each_word[12:15]+\" \" \n",
    "                e+=each_word[15:19]+\" \"\n",
    "                e+=each_word[19:22]+\" \"\n",
    "                e+=each_word[22:26]+\" \"\n",
    "                e+=each_word[26:-2]+\" \"\n",
    "                e+=each_word[-2:]+\"B \"\n",
    "                e+=each_word[-1:]+\"B \"   # 중첩시킨 어절말음소\n",
    "        test_list_new.append(e)\n",
    "    return test_list_new"
   ]
  },
  {
   "cell_type": "code",
   "execution_count": 7,
   "metadata": {},
   "outputs": [],
   "source": [
    "text = lines_df.iloc[:,2].values.tolist() \n",
    "chunked_text = to_word_chunk8(text)"
   ]
  },
  {
   "cell_type": "code",
   "execution_count": 8,
   "metadata": {},
   "outputs": [],
   "source": [
    "lines_df[\"chunked_text\"] = chunked_text"
   ]
  },
  {
   "cell_type": "code",
   "execution_count": 9,
   "metadata": {},
   "outputs": [
    {
     "data": {
      "text/html": [
       "<div>\n",
       "<style scoped>\n",
       "    .dataframe tbody tr th:only-of-type {\n",
       "        vertical-align: middle;\n",
       "    }\n",
       "\n",
       "    .dataframe tbody tr th {\n",
       "        vertical-align: top;\n",
       "    }\n",
       "\n",
       "    .dataframe thead th {\n",
       "        text-align: right;\n",
       "    }\n",
       "</style>\n",
       "<table border=\"1\" class=\"dataframe\">\n",
       "  <thead>\n",
       "    <tr style=\"text-align: right;\">\n",
       "      <th></th>\n",
       "      <th>Text</th>\n",
       "      <th>Line_Num</th>\n",
       "      <th>Line</th>\n",
       "      <th>Pattern</th>\n",
       "      <th>Value</th>\n",
       "      <th>chunked_text</th>\n",
       "    </tr>\n",
       "    <tr>\n",
       "      <th>LineNumber</th>\n",
       "      <th></th>\n",
       "      <th></th>\n",
       "      <th></th>\n",
       "      <th></th>\n",
       "      <th></th>\n",
       "      <th></th>\n",
       "    </tr>\n",
       "  </thead>\n",
       "  <tbody>\n",
       "    <tr>\n",
       "      <th>L10000011</th>\n",
       "      <td>가노라 가노라 임아 언양 단천의 풍월 강산으로 가노라 임아</td>\n",
       "      <td>1</td>\n",
       "      <td>ㄱㅏㄴㅗㄹㅏ ㄱㅏㄴㅗㄹㅏ ㅇㅣㅁㅇㅏ ㅇㅓㄴㅇㅑㅇ ㄷㅏㄴㅊㅓㄴㅇㅡㅣ ㅍㅜㅇㅇㅜㅓㄹ ㄱㅏㅇㅅㅏㄴㅇㅡㄹㅗ ㄱㅏㄴㅗㄹㅏ ㅇㅣㅁㅇㅏ</td>\n",
       "      <td>NaN</td>\n",
       "      <td>1</td>\n",
       "      <td>ㄱㅏㄴ ㅗ ㄹㅏB ㅏB ㄱㅏㄴ ㅗ ㄹㅏB ㅏB ㅇㅣㅁ  ㅇㅏB ㅏB ㅇㅓㄴ ㅇ ㅑㅇB ㅇB ㄷㅏㄴ ㅊㅓ ㄴㅇ ㅡㅣB ㅣB ㅍㅜㅇ ㅇㅜ ㅓㄹB ㄹB ㄱㅏㅇ ㅅㅏㄴ ㅇㅡ ㄹㅗB ㅗB ㄱㅏㄴ ㅗ ㄹㅏB ㅏB ㅇㅣㅁ  ㅇㅏB ㅏB</td>\n",
       "    </tr>\n",
       "    <tr>\n",
       "      <th>L10019081</th>\n",
       "      <td>어듸야  소 모라 가는 노랑 듸궁이 더벙 머리</td>\n",
       "      <td>1</td>\n",
       "      <td>ㅇㅓㄷㅡㅣㅇㅑ ㅺㅣㄹㅺㅣㄹ ㅅㅗ ㅁㅗㄹㅏ ㄱㅏㄴㅡㄴ ㄴㅗㄹㅏㅇ ㄷㅡㅣㄱㅜㅇㅇㅣ ㄷㅓㅂㅓㅇ ㅁㅓㄹㅣ</td>\n",
       "      <td>NaN</td>\n",
       "      <td>1</td>\n",
       "      <td>ㅇㅓㄷ ㅡㅣ ㅇㅑB ㅑB ㅺㅣㄹ ㅺ ㅣㄹB ㄹB ㅅㅗ  ㅅㅗB ㅗB ㅁㅗㄹ  ㄹㅏB ㅏB ㄱㅏㄴ  ㅡㄴB ㄴB ㄴㅗㄹ  ㅏㅇB ㅇB ㄷㅡㅣ ㄱㅜㅇ ㅇㅣB ㅣB ㄷㅓㅂ  ㅓㅇB ㅇB ㅁㅓㄹ  ㄹㅣB ㅣB</td>\n",
       "    </tr>\n",
       "    <tr>\n",
       "      <th>L10022821</th>\n",
       "      <td>이년아 말 듯거라 굽고 나마 쟈질년아</td>\n",
       "      <td>1</td>\n",
       "      <td>ㅇㅣㄴㅕㄴㅇㅏ ㅁㅏㄹ ㄷㅡㅅㄱㅓㄹㅏ ㄱㅜㅂㄱㅗ ㄴㅏㅁㅏ ㅈㅑㅈㅣㄹㄴㅕㄴㅇㅏ</td>\n",
       "      <td>NaN</td>\n",
       "      <td>1</td>\n",
       "      <td>ㅇㅣㄴ ㅕㄴ ㅇㅏB ㅏB ㅁㅏㄹ  ㅏㄹB ㄹB ㄷㅡㅅ ㄱㅓ ㄹㅏB ㅏB ㄱㅜㅂ  ㄱㅗB ㅗB ㄴㅏㅁ  ㅁㅏB ㅏB ㅈㅑㅈ ㅣㄹㄴ ㅕㄴ ㅇㅏB ㅏB</td>\n",
       "    </tr>\n",
       "    <tr>\n",
       "      <th>L10006771</th>\n",
       "      <td>눈아눈아 머르칠 눈아 두 손 장가락으로  질너 머르칠 눈아</td>\n",
       "      <td>1</td>\n",
       "      <td>ㄴㅜㄴㅇㅏㄴㅜㄴㅇㅏ ㅁㅓㄹㅡㅊㅣㄹ ㄴㅜㄴㅇㅏ ㄷㅜ ㅅㅗㄴ ㅈㅏㅇㄱㅏㄹㅏㄱㅇㅡㄹㅗ ㅺㅗㄱ ㅈㅣㄹㄴㅓ ㅁㅓㄹㅡㅊㅣㄹ ㄴㅜㄴㅇㅏ</td>\n",
       "      <td>NaN</td>\n",
       "      <td>1</td>\n",
       "      <td>ㄴㅜㄴ ㅇㅏㄴ ㅜㄴ ㅇㅏB ㅏB ㅁㅓㄹ ㅡㅊ ㅣㄹB ㄹB ㄴㅜㄴ  ㅇㅏB ㅏB ㄷㅜ  ㄷㅜB ㅜB ㅅㅗㄴ  ㅗㄴB ㄴB ㅈㅏㅇ ㄱㅏㄹㅏㄱ ㅇㅡ ㄹㅗB ㅗB ㅺㅗㄱ  ㅗㄱB ㄱB ㅈㅣㄹ  ㄴㅓB ㅓB ㅁㅓㄹ ㅡㅊ ㅣㄹB ㄹB ㄴㅜㄴ  ㅇㅏB ㅏB</td>\n",
       "    </tr>\n",
       "    <tr>\n",
       "      <th>L10007731</th>\n",
       "      <td>아 은 아 李太白이 노든 아</td>\n",
       "      <td>1</td>\n",
       "      <td>ㄷㆍㄹㅇㅏ ㅂㆍᇃㅇㅡㄴ ㄷㆍㄹㅇㅏ ㅇㅣㅌㅐㅂㅐㄱㅇㅣ ㄴㅗㄷㅡㄴ ㄷㆍㄹㅇㅏ</td>\n",
       "      <td>NaN</td>\n",
       "      <td>1</td>\n",
       "      <td>ㄷㆍㄹ  ㅇㅏB ㅏB ㅂㆍᇃ ㅇ ㅡㄴB ㄴB ㄷㆍㄹ  ㅇㅏB ㅏB ㅇㅣㅌ ㅐㅂ ㅐㄱ ㅇㅣB ㅣB ㄴㅗㄷ  ㅡㄴB ㄴB ㄷㆍㄹ  ㅇㅏB ㅏB</td>\n",
       "    </tr>\n",
       "    <tr>\n",
       "      <th>...</th>\n",
       "      <td>...</td>\n",
       "      <td>...</td>\n",
       "      <td>...</td>\n",
       "      <td>...</td>\n",
       "      <td>...</td>\n",
       "      <td>...</td>\n",
       "    </tr>\n",
       "    <tr>\n",
       "      <th>L10022011</th>\n",
       "      <td>우정워정며 歲月이 거의로다</td>\n",
       "      <td>1</td>\n",
       "      <td>ㅇㅜㅈㅓㅇㅇㅜㅓㅈㅓㅇㅎㆍㅁㅕ ㅅㅔㅇㅜㅓㄹㅇㅣ ㄱㅓㅇㅡㅣㄹㅗㄷㅏ</td>\n",
       "      <td>NaN</td>\n",
       "      <td>0</td>\n",
       "      <td>ㅇㅜㅈ ㅓㅇ ㅇㅜ ㅓㅈㅓㅇㅎㆍ ㅁㅕB ㅕB ㅅㅔㅇ ㅜㅓㄹ ㅇㅣB ㅣB ㄱㅓㅇ ㅡㅣ ㄹㅗ ㄷㅏB ㅏB</td>\n",
       "    </tr>\n",
       "    <tr>\n",
       "      <th>L10022361</th>\n",
       "      <td>渭城官 柳樹를 처음의 심근 은</td>\n",
       "      <td>1</td>\n",
       "      <td>ㅇㅜㅣㅅㅓㅇㄱㅗㅏㄴ ㅇㅠㅅㅜㄹㅡㄹ ㅊㅓㅇㅡㅁㅇㅡㅣ ㅅㅣㅁㄱㅡㄴ ㅼㅡㅇㅡㄴ</td>\n",
       "      <td>NaN</td>\n",
       "      <td>0</td>\n",
       "      <td>ㅇㅜㅣ ㅅㅓㅇ ㄱㅗ ㅏㄴB ㄴB ㅇㅠㅅ ㅜㄹ ㅡㄹB ㄹB ㅊㅓㅇ ㅡㅁㅇ ㅡㅣB ㅣB ㅅㅣㅁ ㄱ ㅡㄴB ㄴB ㅼㅡㅇ  ㅡㄴB ㄴB</td>\n",
       "    </tr>\n",
       "    <tr>\n",
       "      <th>L10022711</th>\n",
       "      <td>銀河에 물이 지니 烏鵲橋 단말가</td>\n",
       "      <td>1</td>\n",
       "      <td>ㅇㅡㄴㅎㅏㅇㅔ ㅁㅜㄹㅇㅣ ㅈㅣㄴㅣ ㅇㅗㅈㅏㄱㄱㅛ ㅼㅡㄷㅏㄴㅁㅏㄹㄱㅏ</td>\n",
       "      <td>NaN</td>\n",
       "      <td>0</td>\n",
       "      <td>ㅇㅡㄴ ㅎㅏ ㅇㅔB ㅔB ㅁㅜㄹ  ㅇㅣB ㅣB ㅈㅣㄴ  ㄴㅣB ㅣB ㅇㅗㅈ ㅏㄱ ㄱㅛB ㅛB ㅼㅡㄷ ㅏㄴㅁ ㅏㄹ ㄱㅏB ㅏB</td>\n",
       "    </tr>\n",
       "    <tr>\n",
       "      <th>L10023081</th>\n",
       "      <td>니 몸에 가진 病이 두 가지 아니로다</td>\n",
       "      <td>1</td>\n",
       "      <td>ㄴㅣ ㅁㅗㅁㅇㅔ ㄱㅏㅈㅣㄴ ㅂㅕㅇㅇㅣ ㅎㆍㄴㄷㅜ ㄱㅏㅈㅣ ㅇㅏㄴㅣㄹㅗㄷㅏ</td>\n",
       "      <td>NaN</td>\n",
       "      <td>0</td>\n",
       "      <td>ㄴㅣ  ㄴㅣB ㅣB ㅁㅗㅁ  ㅇㅔB ㅔB ㄱㅏㅈ  ㅣㄴB ㄴB ㅂㅕㅇ  ㅇㅣB ㅣB ㅎㆍㄴ  ㄷㅜB ㅜB ㄱㅏㅈ  ㅈㅣB ㅣB ㅇㅏㄴ ㅣㄹㅗ ㄷㅏB ㅏB</td>\n",
       "    </tr>\n",
       "    <tr>\n",
       "      <th>L10023431</th>\n",
       "      <td>離別이 불이 되니 肝腸을 노라</td>\n",
       "      <td>1</td>\n",
       "      <td>ㅇㅣㅂㅕㄹㅇㅣ ㅂㅜㄹㅇㅣ ㄷㅗㅣㄴㅣ ㄱㅏㄴㅈㅏㅇㅇㅡㄹ ㅌㆍㄴㅗㅁㆎㄹㅏ</td>\n",
       "      <td>NaN</td>\n",
       "      <td>0</td>\n",
       "      <td>ㅇㅣㅂ ㅕㄹ ㅇㅣB ㅣB ㅂㅜㄹ  ㅇㅣB ㅣB ㄷㅗㅣ  ㄴㅣB ㅣB ㄱㅏㄴ ㅈㅏ ㅇㅇ ㅡㄹB ㄹB ㅌㆍㄴ ㅗㅁㆎ ㄹㅏB ㅏB</td>\n",
       "    </tr>\n",
       "  </tbody>\n",
       "</table>\n",
       "<p>136 rows × 6 columns</p>\n",
       "</div>"
      ],
      "text/plain": [
       "                                         Text  Line_Num  \\\n",
       "LineNumber                                                \n",
       "L10000011   가노라 가노라 임아 언양 단천의 풍월 강산으로 가노라 임아   1          \n",
       "L10019081   어듸야  소 모라 가는 노랑 듸궁이 더벙 머리        1          \n",
       "L10022821   이년아 말 듯거라 굽고 나마 쟈질년아               1          \n",
       "L10006771   눈아눈아 머르칠 눈아 두 손 장가락으로  질너 머르칠 눈아  1          \n",
       "L10007731   아 은 아 李太白이 노든 아                1          \n",
       "...                                       ... ..          \n",
       "L10022011   우정워정며 歲月이 거의로다                    1          \n",
       "L10022361   渭城官 柳樹를 처음의 심근 은                  1          \n",
       "L10022711   銀河에 물이 지니 烏鵲橋 단말가                 1          \n",
       "L10023081   니 몸에 가진 病이 두 가지 아니로다              1          \n",
       "L10023431   離別이 불이 되니 肝腸을 노라                 1          \n",
       "\n",
       "                                                                            Line  \\\n",
       "LineNumber                                                                         \n",
       "L10000011   ㄱㅏㄴㅗㄹㅏ ㄱㅏㄴㅗㄹㅏ ㅇㅣㅁㅇㅏ ㅇㅓㄴㅇㅑㅇ ㄷㅏㄴㅊㅓㄴㅇㅡㅣ ㅍㅜㅇㅇㅜㅓㄹ ㄱㅏㅇㅅㅏㄴㅇㅡㄹㅗ ㄱㅏㄴㅗㄹㅏ ㅇㅣㅁㅇㅏ   \n",
       "L10019081   ㅇㅓㄷㅡㅣㅇㅑ ㅺㅣㄹㅺㅣㄹ ㅅㅗ ㅁㅗㄹㅏ ㄱㅏㄴㅡㄴ ㄴㅗㄹㅏㅇ ㄷㅡㅣㄱㅜㅇㅇㅣ ㄷㅓㅂㅓㅇ ㅁㅓㄹㅣ                 \n",
       "L10022821   ㅇㅣㄴㅕㄴㅇㅏ ㅁㅏㄹ ㄷㅡㅅㄱㅓㄹㅏ ㄱㅜㅂㄱㅗ ㄴㅏㅁㅏ ㅈㅑㅈㅣㄹㄴㅕㄴㅇㅏ                              \n",
       "L10006771   ㄴㅜㄴㅇㅏㄴㅜㄴㅇㅏ ㅁㅓㄹㅡㅊㅣㄹ ㄴㅜㄴㅇㅏ ㄷㅜ ㅅㅗㄴ ㅈㅏㅇㄱㅏㄹㅏㄱㅇㅡㄹㅗ ㅺㅗㄱ ㅈㅣㄹㄴㅓ ㅁㅓㄹㅡㅊㅣㄹ ㄴㅜㄴㅇㅏ   \n",
       "L10007731   ㄷㆍㄹㅇㅏ ㅂㆍᇃㅇㅡㄴ ㄷㆍㄹㅇㅏ ㅇㅣㅌㅐㅂㅐㄱㅇㅣ ㄴㅗㄷㅡㄴ ㄷㆍㄹㅇㅏ                               \n",
       "...                                                                          ...   \n",
       "L10022011   ㅇㅜㅈㅓㅇㅇㅜㅓㅈㅓㅇㅎㆍㅁㅕ ㅅㅔㅇㅜㅓㄹㅇㅣ ㄱㅓㅇㅡㅣㄹㅗㄷㅏ                                     \n",
       "L10022361   ㅇㅜㅣㅅㅓㅇㄱㅗㅏㄴ ㅇㅠㅅㅜㄹㅡㄹ ㅊㅓㅇㅡㅁㅇㅡㅣ ㅅㅣㅁㄱㅡㄴ ㅼㅡㅇㅡㄴ                               \n",
       "L10022711   ㅇㅡㄴㅎㅏㅇㅔ ㅁㅜㄹㅇㅣ ㅈㅣㄴㅣ ㅇㅗㅈㅏㄱㄱㅛ ㅼㅡㄷㅏㄴㅁㅏㄹㄱㅏ                                  \n",
       "L10023081   ㄴㅣ ㅁㅗㅁㅇㅔ ㄱㅏㅈㅣㄴ ㅂㅕㅇㅇㅣ ㅎㆍㄴㄷㅜ ㄱㅏㅈㅣ ㅇㅏㄴㅣㄹㅗㄷㅏ                               \n",
       "L10023431   ㅇㅣㅂㅕㄹㅇㅣ ㅂㅜㄹㅇㅣ ㄷㅗㅣㄴㅣ ㄱㅏㄴㅈㅏㅇㅇㅡㄹ ㅌㆍㄴㅗㅁㆎㄹㅏ                                 \n",
       "\n",
       "           Pattern  Value  \\\n",
       "LineNumber                  \n",
       "L10000011   NaN     1       \n",
       "L10019081   NaN     1       \n",
       "L10022821   NaN     1       \n",
       "L10006771   NaN     1       \n",
       "L10007731   NaN     1       \n",
       "...         ...    ..       \n",
       "L10022011   NaN     0       \n",
       "L10022361   NaN     0       \n",
       "L10022711   NaN     0       \n",
       "L10023081   NaN     0       \n",
       "L10023431   NaN     0       \n",
       "\n",
       "                                                                                                                                         chunked_text  \n",
       "LineNumber                                                                                                                                             \n",
       "L10000011   ㄱㅏㄴ ㅗ ㄹㅏB ㅏB ㄱㅏㄴ ㅗ ㄹㅏB ㅏB ㅇㅣㅁ  ㅇㅏB ㅏB ㅇㅓㄴ ㅇ ㅑㅇB ㅇB ㄷㅏㄴ ㅊㅓ ㄴㅇ ㅡㅣB ㅣB ㅍㅜㅇ ㅇㅜ ㅓㄹB ㄹB ㄱㅏㅇ ㅅㅏㄴ ㅇㅡ ㄹㅗB ㅗB ㄱㅏㄴ ㅗ ㄹㅏB ㅏB ㅇㅣㅁ  ㅇㅏB ㅏB               \n",
       "L10019081   ㅇㅓㄷ ㅡㅣ ㅇㅑB ㅑB ㅺㅣㄹ ㅺ ㅣㄹB ㄹB ㅅㅗ  ㅅㅗB ㅗB ㅁㅗㄹ  ㄹㅏB ㅏB ㄱㅏㄴ  ㅡㄴB ㄴB ㄴㅗㄹ  ㅏㅇB ㅇB ㄷㅡㅣ ㄱㅜㅇ ㅇㅣB ㅣB ㄷㅓㅂ  ㅓㅇB ㅇB ㅁㅓㄹ  ㄹㅣB ㅣB                           \n",
       "L10022821   ㅇㅣㄴ ㅕㄴ ㅇㅏB ㅏB ㅁㅏㄹ  ㅏㄹB ㄹB ㄷㅡㅅ ㄱㅓ ㄹㅏB ㅏB ㄱㅜㅂ  ㄱㅗB ㅗB ㄴㅏㅁ  ㅁㅏB ㅏB ㅈㅑㅈ ㅣㄹㄴ ㅕㄴ ㅇㅏB ㅏB                                                          \n",
       "L10006771   ㄴㅜㄴ ㅇㅏㄴ ㅜㄴ ㅇㅏB ㅏB ㅁㅓㄹ ㅡㅊ ㅣㄹB ㄹB ㄴㅜㄴ  ㅇㅏB ㅏB ㄷㅜ  ㄷㅜB ㅜB ㅅㅗㄴ  ㅗㄴB ㄴB ㅈㅏㅇ ㄱㅏㄹㅏㄱ ㅇㅡ ㄹㅗB ㅗB ㅺㅗㄱ  ㅗㄱB ㄱB ㅈㅣㄹ  ㄴㅓB ㅓB ㅁㅓㄹ ㅡㅊ ㅣㄹB ㄹB ㄴㅜㄴ  ㅇㅏB ㅏB   \n",
       "L10007731   ㄷㆍㄹ  ㅇㅏB ㅏB ㅂㆍᇃ ㅇ ㅡㄴB ㄴB ㄷㆍㄹ  ㅇㅏB ㅏB ㅇㅣㅌ ㅐㅂ ㅐㄱ ㅇㅣB ㅣB ㄴㅗㄷ  ㅡㄴB ㄴB ㄷㆍㄹ  ㅇㅏB ㅏB                                                              \n",
       "...                                                                                                                                               ...  \n",
       "L10022011   ㅇㅜㅈ ㅓㅇ ㅇㅜ ㅓㅈㅓㅇㅎㆍ ㅁㅕB ㅕB ㅅㅔㅇ ㅜㅓㄹ ㅇㅣB ㅣB ㄱㅓㅇ ㅡㅣ ㄹㅗ ㄷㅏB ㅏB                                                                                    \n",
       "L10022361   ㅇㅜㅣ ㅅㅓㅇ ㄱㅗ ㅏㄴB ㄴB ㅇㅠㅅ ㅜㄹ ㅡㄹB ㄹB ㅊㅓㅇ ㅡㅁㅇ ㅡㅣB ㅣB ㅅㅣㅁ ㄱ ㅡㄴB ㄴB ㅼㅡㅇ  ㅡㄴB ㄴB                                                                    \n",
       "L10022711   ㅇㅡㄴ ㅎㅏ ㅇㅔB ㅔB ㅁㅜㄹ  ㅇㅣB ㅣB ㅈㅣㄴ  ㄴㅣB ㅣB ㅇㅗㅈ ㅏㄱ ㄱㅛB ㅛB ㅼㅡㄷ ㅏㄴㅁ ㅏㄹ ㄱㅏB ㅏB                                                                      \n",
       "L10023081   ㄴㅣ  ㄴㅣB ㅣB ㅁㅗㅁ  ㅇㅔB ㅔB ㄱㅏㅈ  ㅣㄴB ㄴB ㅂㅕㅇ  ㅇㅣB ㅣB ㅎㆍㄴ  ㄷㅜB ㅜB ㄱㅏㅈ  ㅈㅣB ㅣB ㅇㅏㄴ ㅣㄹㅗ ㄷㅏB ㅏB                                                      \n",
       "L10023431   ㅇㅣㅂ ㅕㄹ ㅇㅣB ㅣB ㅂㅜㄹ  ㅇㅣB ㅣB ㄷㅗㅣ  ㄴㅣB ㅣB ㄱㅏㄴ ㅈㅏ ㅇㅇ ㅡㄹB ㄹB ㅌㆍㄴ ㅗㅁㆎ ㄹㅏB ㅏB                                                                      \n",
       "\n",
       "[136 rows x 6 columns]"
      ]
     },
     "execution_count": 9,
     "metadata": {},
     "output_type": "execute_result"
    }
   ],
   "source": [
    "lines_df"
   ]
  },
  {
   "cell_type": "code",
   "execution_count": 10,
   "metadata": {},
   "outputs": [],
   "source": [
    "lines_df_small = lines_df.head(130)"
   ]
  },
  {
   "cell_type": "code",
   "execution_count": 11,
   "metadata": {},
   "outputs": [],
   "source": [
    "from gensim.parsing.preprocessing import remove_stopwords\n",
    "from gensim.utils import simple_preprocess\n",
    "\n",
    "def text_to_tokens(text):\n",
    "    text = text.lower()\n",
    "    text = remove_stopwords(text)\n",
    "    tokens = simple_preprocess(text)\n",
    "    return tokens"
   ]
  },
  {
   "cell_type": "code",
   "execution_count": 12,
   "metadata": {},
   "outputs": [],
   "source": [
    "class DocumentDataset(object):\n",
    "    \n",
    "    def __init__(self, data:pd.DataFrame, column):\n",
    "        document = data[column].apply(self.preprocess)\n",
    "        self.documents = [ TaggedDocument( text, [index]) \n",
    "                          for index, text in document.iteritems() ]\n",
    "      \n",
    "    def preprocess(self, document):\n",
    "        return preprocess_string(remove_stopwords(document))\n",
    "        \n",
    "    def __iter__(self):\n",
    "        for document in self.documents:\n",
    "            yield documents\n",
    "            \n",
    "    def tagged_documents(self, shuffle=False):\n",
    "        if shuffle:\n",
    "            random.shuffle(self.documents)\n",
    "        return self.documents"
   ]
  },
  {
   "cell_type": "code",
   "execution_count": 13,
   "metadata": {},
   "outputs": [],
   "source": [
    "documents_dataset = DocumentDataset(lines_df_small, 'chunked_text')"
   ]
  },
  {
   "cell_type": "code",
   "execution_count": null,
   "metadata": {},
   "outputs": [],
   "source": []
  },
  {
   "cell_type": "markdown",
   "metadata": {},
   "source": [
    "# Document Vector Model 적용"
   ]
  },
  {
   "cell_type": "code",
   "execution_count": 14,
   "metadata": {},
   "outputs": [],
   "source": [
    "docVecModel = Doc2Vec(min_count=2, window=10, vector_size=100, sample=1e-4, negative=2, workers=8) #sample=1e-4,\n",
    "docVecModel.build_vocab(documents_dataset.tagged_documents())\n",
    "# min_count=3, window=10, vector_size=50, sample=1e-4, negative=2, workers=8 -> ('L10016581', 0.853701114654541), ('L10007691', 0.5858792066574097),\n",
    "# min_count=1, window=10, vector_size=50, sample=1e-4, negative=2, workers=8 ->('L10016581', 0.665807843208313), ('L10014621', 0.5199353694915771), 잘 맞음\n",
    "# min_count=1, window=10, vector_size=100, sample=1e-4, negative=2, workers=8 -> ('L10016581', 0.7407584190368652), ('L10016591', 0.5202860832214355), 잘 맞음\n",
    "# min_count=1, window=10, vector_size=150, sample=1e-4, negative=2, workers=8 벡터가 커져도 일치도는 변화 없음"
   ]
  },
  {
   "cell_type": "code",
   "execution_count": 15,
   "metadata": {},
   "outputs": [],
   "source": [
    "docVecModel.train(documents_dataset.tagged_documents(shuffle=True),\n",
    "            total_examples = docVecModel.corpus_count,\n",
    "           epochs=1000)"
   ]
  },
  {
   "cell_type": "code",
   "execution_count": 16,
   "metadata": {},
   "outputs": [
    {
     "data": {
      "text/plain": [
       "130"
      ]
     },
     "execution_count": 16,
     "metadata": {},
     "output_type": "execute_result"
    }
   ],
   "source": [
    "docVecModel.corpus_count"
   ]
  },
  {
   "cell_type": "code",
   "execution_count": 17,
   "metadata": {},
   "outputs": [],
   "source": [
    "docVecModel.save('../data/SizoChunkedLinesModel.d2v')"
   ]
  },
  {
   "cell_type": "code",
   "execution_count": 18,
   "metadata": {},
   "outputs": [],
   "source": [
    "docVecModel = Doc2Vec.load('../data/SizoChunkedLinesModel.d2v')"
   ]
  },
  {
   "cell_type": "code",
   "execution_count": 20,
   "metadata": {},
   "outputs": [
    {
     "data": {
      "text/plain": [
       "array([-0.13330726,  0.06031567, -0.0911858 ,  0.19694135, -0.1434537 ,\n",
       "       -0.24282064,  0.05468263, -0.06267934,  0.07860897,  0.25021777,\n",
       "       -0.13808441,  0.09129216, -0.02636571, -0.06674604, -0.07423063,\n",
       "        0.04545342,  0.08558933, -0.14682543, -0.02921638, -0.00503397,\n",
       "        0.0210034 , -0.09704758, -0.06835849,  0.18219884, -0.06118558,\n",
       "        0.10739374,  0.17541733,  0.19536456,  0.04859027,  0.13130948,\n",
       "       -0.11622944, -0.06311768,  0.09814034, -0.04259322,  0.18070802,\n",
       "        0.03859518,  0.0256357 , -0.09468939, -0.18415755,  0.01103759,\n",
       "       -0.12459339, -0.03997632, -0.02561432,  0.10777263, -0.06482658,\n",
       "        0.09385089, -0.09937617,  0.04319292, -0.05160316,  0.05733137,\n",
       "        0.08790422,  0.21754074, -0.01073276,  0.14548922,  0.03696307,\n",
       "        0.10592205, -0.0245093 ,  0.00955591,  0.1150939 , -0.02899801,\n",
       "       -0.11643052,  0.15547998, -0.0741892 ,  0.11651801,  0.08985911,\n",
       "       -0.30019084,  0.11341715, -0.07869408,  0.00246066,  0.09879621,\n",
       "       -0.01695122,  0.13386674, -0.07965739, -0.01473824, -0.14096838,\n",
       "       -0.09209747,  0.13872   ,  0.13416931,  0.02884308, -0.2270758 ,\n",
       "        0.06021277, -0.04576795,  0.01945995,  0.02899423, -0.02251108,\n",
       "       -0.04347016,  0.01457181,  0.04462489,  0.10191548,  0.02420105,\n",
       "       -0.02700306,  0.10537197, -0.12588446,  0.13888137,  0.01141731,\n",
       "       -0.11035635, -0.08644515,  0.04276585,  0.05831227,  0.14408456],\n",
       "      dtype=float32)"
      ]
     },
     "execution_count": 20,
     "metadata": {},
     "output_type": "execute_result"
    }
   ],
   "source": [
    "docVecModel['L10007731']"
   ]
  },
  {
   "cell_type": "code",
   "execution_count": 21,
   "metadata": {},
   "outputs": [],
   "source": [
    "import matplotlib.pyplot as plt\n",
    "plt.style.use('fivethirtyeight')\n",
    "\n",
    "def show_image(vector, line):\n",
    "    fig, ax = plt.subplots(1,1, figsize=(10, 2))\n",
    "    ax.tick_params(axis='both', \n",
    "                   which='both',\n",
    "                   left=False, \n",
    "                   bottom=False, \n",
    "                   top=False,\n",
    "                   labelleft=False, \n",
    "                   labelbottom=False)\n",
    "    ax.grid(False)\n",
    "    print(line)\n",
    "    ax.bar(range(len(vector)), vector, 0.5)\n",
    "   \n",
    "    \n",
    "def show_Sizo_line(line_number):\n",
    "    line = lines_df_small.loc[line_number].chunked_text  \n",
    "    Text = lines_df_small.loc[line_number].Text\n",
    "    doc_vector = docVecModel.docvecs[line_number]\n",
    "    show_image(doc_vector, line) \n",
    "    "
   ]
  },
  {
   "cell_type": "code",
   "execution_count": 22,
   "metadata": {},
   "outputs": [
    {
     "name": "stdout",
     "output_type": "stream",
     "text": [
      "ㄷㆍㄹ  ㅇㅏB ㅏB ㅂㆍᇃ ㅇ ㅡㄴB ㄴB ㄷㆍㄹ  ㅇㅏB ㅏB ㅇㅣㅌ ㅐㅂ ㅐㄱ ㅇㅣB ㅣB ㄴㅗㄷ  ㅡㄴB ㄴB ㄷㆍㄹ  ㅇㅏB ㅏB \n"
     ]
    },
    {
     "data": {
      "image/png": "[encoded data removed]",
      "text/plain": [
       "<Figure size 720x144 with 1 Axes>"
      ]
     },
     "metadata": {},
     "output_type": "display_data"
    }
   ],
   "source": [
    "show_Sizo_line('L10007731')"
   ]
  },
  {
   "cell_type": "code",
   "execution_count": 23,
   "metadata": {},
   "outputs": [
    {
     "data": {
      "text/plain": [
       "[('L10016581', 0.8278400897979736),\n",
       " ('L10026321', 0.5479141473770142),\n",
       " ('L10016591', 0.38912442326545715),\n",
       " ('L10015371', 0.3820744454860687),\n",
       " ('L10010171', 0.37079793214797974),\n",
       " ('L10006771', 0.36246156692504883),\n",
       " ('L10013301', 0.3610727787017822),\n",
       " ('L10007691', 0.3551172912120819),\n",
       " ('L10013281', 0.3124657869338989),\n",
       " ('L10013311', 0.31227684020996094)]"
      ]
     },
     "execution_count": 23,
     "metadata": {},
     "output_type": "execute_result"
    }
   ],
   "source": [
    "docVecModel.docvecs.most_similar('L10007731')"
   ]
  },
  {
   "cell_type": "code",
   "execution_count": 24,
   "metadata": {},
   "outputs": [
    {
     "name": "stdout",
     "output_type": "stream",
     "text": [
      "ㅅㅗㅅ ㅏㅇㄱ ㅏㅇB ㅇB ㄷㆍㄹ  ㆍㄹB ㄹB ㅂㆍᇃ ㅇ ㅡㄴB ㄴB ㅂㅏㅁ ㅇ ㅡㅣB ㅣB ㄷㅗㄹ ㅏㅇ ㅗㄴ ㅡㄴB ㄴB ㅈㅓ  ㅈㅓB ㅓB ㄱㅣㄹ ㅓㄱ ㅇㅏB ㅏB \n"
     ]
    },
    {
     "data": {
      "image/png": "[encoded data removed]",
      "text/plain": [
       "<Figure size 720x144 with 1 Axes>"
      ]
     },
     "metadata": {},
     "output_type": "display_data"
    }
   ],
   "source": [
    "show_Sizo_line('L10016581')"
   ]
  },
  {
   "cell_type": "code",
   "execution_count": 25,
   "metadata": {},
   "outputs": [
    {
     "data": {
      "text/plain": [
       "array([-0.11760285, -0.14380264,  0.07191776, -0.15463974,  0.0736655 ,\n",
       "        0.3777529 , -0.6180476 , -0.17160656, -0.30704713,  0.13191849,\n",
       "       -0.10593977,  0.21283181, -0.1419555 ,  0.318927  , -0.06074937,\n",
       "        0.04647856,  0.2678719 , -0.02459206, -0.17302239,  0.26499525,\n",
       "       -0.24186935,  0.16826415, -0.5807901 ,  0.50229937,  0.40369147,\n",
       "        0.40495545, -0.02576751, -0.08942551, -0.53439623, -0.4137669 ,\n",
       "       -0.07136744,  0.11544584,  0.33703145,  0.53688544, -0.13521832,\n",
       "        0.72541845,  0.0754529 ,  0.37659433, -0.2966865 ,  0.00770572,\n",
       "       -0.3555441 ,  0.46390018,  0.34894785,  0.0434403 , -0.788906  ,\n",
       "        0.03767423, -0.07814221,  0.33518702, -0.28682873,  0.43633935,\n",
       "       -0.35575753, -0.4331421 ,  0.3638038 , -0.02840321,  0.32018653,\n",
       "        0.6383834 , -0.02140517, -0.04895431, -0.29939473,  0.09421057,\n",
       "        0.3352804 , -0.66872776,  0.90732384, -0.42473337, -0.3191808 ,\n",
       "       -0.12206651,  0.22100823,  0.15818179,  0.23947442,  0.576891  ,\n",
       "       -0.30253205,  0.28788242, -0.20444503, -0.3157172 , -0.0419133 ,\n",
       "        0.35488385, -0.10354016, -0.47693285, -0.16608462, -0.06432189,\n",
       "        0.15006347, -0.33073026, -0.40708795,  0.36169162,  0.14195865,\n",
       "        0.08237938, -0.09648706, -0.50481725, -1.0750871 ,  0.4056003 ,\n",
       "        0.12199943, -0.04044136, -0.3874535 , -0.23731323, -0.26511326,\n",
       "       -0.61288315, -0.06323558, -0.3025143 ,  0.03024276,  0.3519022 ],\n",
       "      dtype=float32)"
      ]
     },
     "execution_count": 25,
     "metadata": {},
     "output_type": "execute_result"
    }
   ],
   "source": [
    "docVecModel['L10019151']"
   ]
  },
  {
   "cell_type": "code",
   "execution_count": 26,
   "metadata": {},
   "outputs": [],
   "source": [
    "def to_vector(sentence):\n",
    "    cleaned = preprocess_string(sentence)\n",
    "    docVector = docVecModel.infer_vector(cleaned)\n",
    "    return docVector"
   ]
  },
  {
   "cell_type": "code",
   "execution_count": 27,
   "metadata": {},
   "outputs": [
    {
     "name": "stdout",
     "output_type": "stream",
     "text": [
      "ㄷㆍㄹ  ㅇㅏB ㅏB ㅂㆍᇃ ㅇ ㅡㄴB ㄴB ㄷㆍㄹ  ㅇㅏB ㅏB ㅇㅣㅌ ㅐㅂ ㅐㄱ ㅇㅣB ㅣB ㄴㅗㄷ  ㅡㄴB ㄴB ㄷㆍㄹ  ㅇㅏB ㅏB \n"
     ]
    },
    {
     "data": {
      "image/png": "[encoded data removed]",
      "text/plain": [
       "<Figure size 720x144 with 1 Axes>"
      ]
     },
     "metadata": {},
     "output_type": "display_data"
    }
   ],
   "source": [
    "show_Sizo_line('L10007731')"
   ]
  },
  {
   "cell_type": "code",
   "execution_count": 28,
   "metadata": {},
   "outputs": [
    {
     "name": "stdout",
     "output_type": "stream",
     "text": [
      "ㅇㅓㄹㅡㄴㅈㅑ ㄴㅓㅊㅜㄹㅣㅇㅑ ㅇㅔㅇㅓㄹㅡㄴㅈㅑ ㅂㅏㄱㄴㅓㅊㅜㄹㅣㅇㅑ\n"
     ]
    },
    {
     "data": {
      "image/png": "[encoded data removed]",
      "text/plain": [
       "<Figure size 720x144 with 1 Axes>"
      ]
     },
     "metadata": {},
     "output_type": "display_data"
    }
   ],
   "source": [
    "line = \"ㅇㅓㄹㅡㄴㅈㅑ ㄴㅓㅊㅜㄹㅣㅇㅑ ㅇㅔㅇㅓㄹㅡㄴㅈㅑ ㅂㅏㄱㄴㅓㅊㅜㄹㅣㅇㅑ\"\n",
    "show_image(to_vector(\"ㅇㅓㄹㅡㄴㅈㅑ ㄴㅓㅊㅜㄹㅣㅇㅑ ㅇㅔㅇㅓㄹㅡㄴㅈㅑ ㅂㅏㄱㄴㅓㅊㅜㄹㅣㅇㅑ\"), line)"
   ]
  },
  {
   "cell_type": "code",
   "execution_count": 29,
   "metadata": {},
   "outputs": [
    {
     "data": {
      "text/plain": [
       "['\\ue38f아 \\ue650은 \\ue38f아 李太白이 노든 \\ue38f아',\n",
       " '瀟湘江 \\ue38f \\ue650은 밤의 도라오는 저 기럭아',\n",
       " '珠簾에 비쵠 \\ue38f과 멀리 오\\ue285 笛소\\ue487야',\n",
       " '瀟湘江 細雨中에 삿갓 쓴 져 老翁아',\n",
       " '머리를 고텨 뀌워 玉簪은 \\ue1a7라고죄',\n",
       " '北海上 찬 바\\ue477에 울고 오는 져 기럭아',\n",
       " '서리 티고 별 성긘제 울며 가는 져 기럭아',\n",
       " '눈아눈아 머르칠 눈아 두 손 장가락으로 \\ue9e2 질너 머르칠 눈아',\n",
       " '空山風雲夜에 도라오는 져 \\ue97d\\ue477아',\n",
       " '北海上 片紙傳튼 蘇中郞에 기러기야']"
      ]
     },
     "execution_count": 29,
     "metadata": {},
     "output_type": "execute_result"
    }
   ],
   "source": [
    "def similar_Sizo_lines(sentence):\n",
    "    vector = to_vector(sentence)\n",
    "    similar_vectors = docVecModel.docvecs.most_similar(positive=[vector])\n",
    "    similar_lines = [ lines_df.loc[line[0]].Text for line in similar_vectors]\n",
    "    return similar_lines\n",
    "\n",
    "similar_Sizo_lines(\"ㄷㆍㄹ  ㅇㅏB ㅏB ㅂㆍᇃ ㅇ ㅡㄴB ㄴB ㄷㆍㄹ  ㅇㅏB ㅏB ㅇㅣㅌ ㅐㅂ ㅐㄱ ㅇㅣB ㅣB ㄴㅗㄷ  ㅡㄴB ㄴB ㄷㆍㄹ  ㅇㅏB ㅏB \")"
   ]
  },
  {
   "cell_type": "code",
   "execution_count": 30,
   "metadata": {},
   "outputs": [
    {
     "data": {
      "text/plain": [
       "'\\ue38f아 \\ue650은 \\ue38f아 李太白이 노든 \\ue38f아'"
      ]
     },
     "execution_count": 30,
     "metadata": {},
     "output_type": "execute_result"
    }
   ],
   "source": [
    "lines_df_small.loc['L10007731'].Text"
   ]
  },
  {
   "cell_type": "code",
   "execution_count": null,
   "metadata": {},
   "outputs": [],
   "source": []
  },
  {
   "cell_type": "code",
   "execution_count": null,
   "metadata": {},
   "outputs": [],
   "source": []
  }
 ],
 "metadata": {
  "kernelspec": {
   "display_name": "tf3",
   "language": "python",
   "name": "tf3"
  },
  "language_info": {
   "codemirror_mode": {
    "name": "ipython",
    "version": 3
   },
   "file_extension": ".py",
   "mimetype": "text/x-python",
   "name": "python",
   "nbconvert_exporter": "python",
   "pygments_lexer": "ipython3",
   "version": "3.6.10"
  },
  "toc": {
   "base_numbering": 1,
   "nav_menu": {},
   "number_sections": true,
   "sideBar": true,
   "skip_h1_title": false,
   "title_cell": "Table of Contents",
   "title_sidebar": "Contents",
   "toc_cell": false,
   "toc_position": {},
   "toc_section_display": true,
   "toc_window_display": false
  }
 },
 "nbformat": 4,
 "nbformat_minor": 2
}
