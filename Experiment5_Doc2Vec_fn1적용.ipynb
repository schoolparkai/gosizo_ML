{
 "cells": [
  {
   "cell_type": "code",
   "execution_count": 1,
   "metadata": {},
   "outputs": [],
   "source": [
    "import pandas as pd\n",
    "from gensim import utils\n",
    "from gensim.models.doc2vec import TaggedDocument\n",
    "from gensim.models import Doc2Vec\n",
    "from gensim.parsing.preprocessing import preprocess_string, remove_stopwords\n",
    "import random\n",
    "\n",
    "import warnings\n",
    "warnings.filterwarnings(\"ignore\")"
   ]
  },
  {
   "cell_type": "code",
   "execution_count": 2,
   "metadata": {},
   "outputs": [],
   "source": [
    "pd.set_option('display.max_colwidth', -1)"
   ]
  },
  {
   "cell_type": "code",
   "execution_count": null,
   "metadata": {},
   "outputs": [],
   "source": []
  },
  {
   "cell_type": "markdown",
   "metadata": {},
   "source": [
    "# Load Sizo Lines"
   ]
  },
  {
   "cell_type": "code",
   "execution_count": 3,
   "metadata": {
    "scrolled": true
   },
   "outputs": [
    {
     "data": {
      "text/html": [
       "<div>\n",
       "<style scoped>\n",
       "    .dataframe tbody tr th:only-of-type {\n",
       "        vertical-align: middle;\n",
       "    }\n",
       "\n",
       "    .dataframe tbody tr th {\n",
       "        vertical-align: top;\n",
       "    }\n",
       "\n",
       "    .dataframe thead th {\n",
       "        text-align: right;\n",
       "    }\n",
       "</style>\n",
       "<table border=\"1\" class=\"dataframe\">\n",
       "  <thead>\n",
       "    <tr style=\"text-align: right;\">\n",
       "      <th></th>\n",
       "      <th>Text</th>\n",
       "      <th>Line_Num</th>\n",
       "      <th>Line</th>\n",
       "      <th>Pattern</th>\n",
       "      <th>Value</th>\n",
       "    </tr>\n",
       "    <tr>\n",
       "      <th>LineNumber</th>\n",
       "      <th></th>\n",
       "      <th></th>\n",
       "      <th></th>\n",
       "      <th></th>\n",
       "      <th></th>\n",
       "    </tr>\n",
       "  </thead>\n",
       "  <tbody>\n",
       "    <tr>\n",
       "      <th>L10000011</th>\n",
       "      <td>가노라 가노라 임아 언양 단천의 풍월 강산으로 가노라 임아</td>\n",
       "      <td>1</td>\n",
       "      <td>ㄱㅏㄴㅗㄹㅏ ㄱㅏㄴㅗㄹㅏ ㅇㅣㅁㅇㅏ ㅇㅓㄴㅇㅑㅇ ㄷㅏㄴㅊㅓㄴㅇㅡㅣ ㅍㅜㅇㅇㅜㅓㄹ ㄱㅏㅇㅅㅏㄴㅇㅡㄹㅗ ㄱㅏㄴㅗㄹㅏ ㅇㅣㅁㅇㅏ</td>\n",
       "      <td>NaN</td>\n",
       "      <td>1</td>\n",
       "    </tr>\n",
       "    <tr>\n",
       "      <th>L10019081</th>\n",
       "      <td>어듸야  소 모라 가는 노랑 듸궁이 더벙 머리</td>\n",
       "      <td>1</td>\n",
       "      <td>ㅇㅓㄷㅡㅣㅇㅑ ㅺㅣㄹㅺㅣㄹ ㅅㅗ ㅁㅗㄹㅏ ㄱㅏㄴㅡㄴ ㄴㅗㄹㅏㅇ ㄷㅡㅣㄱㅜㅇㅇㅣ ㄷㅓㅂㅓㅇ ㅁㅓㄹㅣ</td>\n",
       "      <td>NaN</td>\n",
       "      <td>1</td>\n",
       "    </tr>\n",
       "    <tr>\n",
       "      <th>L10022821</th>\n",
       "      <td>이년아 말 듯거라 굽고 나마 쟈질년아</td>\n",
       "      <td>1</td>\n",
       "      <td>ㅇㅣㄴㅕㄴㅇㅏ ㅁㅏㄹ ㄷㅡㅅㄱㅓㄹㅏ ㄱㅜㅂㄱㅗ ㄴㅏㅁㅏ ㅈㅑㅈㅣㄹㄴㅕㄴㅇㅏ</td>\n",
       "      <td>NaN</td>\n",
       "      <td>1</td>\n",
       "    </tr>\n",
       "    <tr>\n",
       "      <th>L10006771</th>\n",
       "      <td>눈아눈아 머르칠 눈아 두 손 장가락으로  질너 머르칠 눈아</td>\n",
       "      <td>1</td>\n",
       "      <td>ㄴㅜㄴㅇㅏㄴㅜㄴㅇㅏ ㅁㅓㄹㅡㅊㅣㄹ ㄴㅜㄴㅇㅏ ㄷㅜ ㅅㅗㄴ ㅈㅏㅇㄱㅏㄹㅏㄱㅇㅡㄹㅗ ㅺㅗㄱ ㅈㅣㄹㄴㅓ ㅁㅓㄹㅡㅊㅣㄹ ㄴㅜㄴㅇㅏ</td>\n",
       "      <td>NaN</td>\n",
       "      <td>1</td>\n",
       "    </tr>\n",
       "    <tr>\n",
       "      <th>L10007731</th>\n",
       "      <td>아 은 아 李太白이 노든 아</td>\n",
       "      <td>1</td>\n",
       "      <td>ㄷㆍㄹㅇㅏ ㅂㆍᇃㅇㅡㄴ ㄷㆍㄹㅇㅏ ㅇㅣㅌㅐㅂㅐㄱㅇㅣ ㄴㅗㄷㅡㄴ ㄷㆍㄹㅇㅏ</td>\n",
       "      <td>NaN</td>\n",
       "      <td>1</td>\n",
       "    </tr>\n",
       "    <tr>\n",
       "      <th>...</th>\n",
       "      <td>...</td>\n",
       "      <td>...</td>\n",
       "      <td>...</td>\n",
       "      <td>...</td>\n",
       "      <td>...</td>\n",
       "    </tr>\n",
       "    <tr>\n",
       "      <th>L10022011</th>\n",
       "      <td>우정워정며 歲月이 거의로다</td>\n",
       "      <td>1</td>\n",
       "      <td>ㅇㅜㅈㅓㅇㅇㅜㅓㅈㅓㅇㅎㆍㅁㅕ ㅅㅔㅇㅜㅓㄹㅇㅣ ㄱㅓㅇㅡㅣㄹㅗㄷㅏ</td>\n",
       "      <td>NaN</td>\n",
       "      <td>0</td>\n",
       "    </tr>\n",
       "    <tr>\n",
       "      <th>L10022361</th>\n",
       "      <td>渭城官 柳樹를 처음의 심근 은</td>\n",
       "      <td>1</td>\n",
       "      <td>ㅇㅜㅣㅅㅓㅇㄱㅗㅏㄴ ㅇㅠㅅㅜㄹㅡㄹ ㅊㅓㅇㅡㅁㅇㅡㅣ ㅅㅣㅁㄱㅡㄴ ㅼㅡㅇㅡㄴ</td>\n",
       "      <td>NaN</td>\n",
       "      <td>0</td>\n",
       "    </tr>\n",
       "    <tr>\n",
       "      <th>L10022711</th>\n",
       "      <td>銀河에 물이 지니 烏鵲橋 단말가</td>\n",
       "      <td>1</td>\n",
       "      <td>ㅇㅡㄴㅎㅏㅇㅔ ㅁㅜㄹㅇㅣ ㅈㅣㄴㅣ ㅇㅗㅈㅏㄱㄱㅛ ㅼㅡㄷㅏㄴㅁㅏㄹㄱㅏ</td>\n",
       "      <td>NaN</td>\n",
       "      <td>0</td>\n",
       "    </tr>\n",
       "    <tr>\n",
       "      <th>L10023081</th>\n",
       "      <td>니 몸에 가진 病이 두 가지 아니로다</td>\n",
       "      <td>1</td>\n",
       "      <td>ㄴㅣ ㅁㅗㅁㅇㅔ ㄱㅏㅈㅣㄴ ㅂㅕㅇㅇㅣ ㅎㆍㄴㄷㅜ ㄱㅏㅈㅣ ㅇㅏㄴㅣㄹㅗㄷㅏ</td>\n",
       "      <td>NaN</td>\n",
       "      <td>0</td>\n",
       "    </tr>\n",
       "    <tr>\n",
       "      <th>L10023431</th>\n",
       "      <td>離別이 불이 되니 肝腸을 노라</td>\n",
       "      <td>1</td>\n",
       "      <td>ㅇㅣㅂㅕㄹㅇㅣ ㅂㅜㄹㅇㅣ ㄷㅗㅣㄴㅣ ㄱㅏㄴㅈㅏㅇㅇㅡㄹ ㅌㆍㄴㅗㅁㆎㄹㅏ</td>\n",
       "      <td>NaN</td>\n",
       "      <td>0</td>\n",
       "    </tr>\n",
       "  </tbody>\n",
       "</table>\n",
       "<p>136 rows × 5 columns</p>\n",
       "</div>"
      ],
      "text/plain": [
       "                                         Text  Line_Num  \\\n",
       "LineNumber                                                \n",
       "L10000011   가노라 가노라 임아 언양 단천의 풍월 강산으로 가노라 임아   1          \n",
       "L10019081   어듸야  소 모라 가는 노랑 듸궁이 더벙 머리        1          \n",
       "L10022821   이년아 말 듯거라 굽고 나마 쟈질년아               1          \n",
       "L10006771   눈아눈아 머르칠 눈아 두 손 장가락으로  질너 머르칠 눈아  1          \n",
       "L10007731   아 은 아 李太白이 노든 아                1          \n",
       "...                                       ... ..          \n",
       "L10022011   우정워정며 歲月이 거의로다                    1          \n",
       "L10022361   渭城官 柳樹를 처음의 심근 은                  1          \n",
       "L10022711   銀河에 물이 지니 烏鵲橋 단말가                 1          \n",
       "L10023081   니 몸에 가진 病이 두 가지 아니로다              1          \n",
       "L10023431   離別이 불이 되니 肝腸을 노라                 1          \n",
       "\n",
       "                                                                            Line  \\\n",
       "LineNumber                                                                         \n",
       "L10000011   ㄱㅏㄴㅗㄹㅏ ㄱㅏㄴㅗㄹㅏ ㅇㅣㅁㅇㅏ ㅇㅓㄴㅇㅑㅇ ㄷㅏㄴㅊㅓㄴㅇㅡㅣ ㅍㅜㅇㅇㅜㅓㄹ ㄱㅏㅇㅅㅏㄴㅇㅡㄹㅗ ㄱㅏㄴㅗㄹㅏ ㅇㅣㅁㅇㅏ   \n",
       "L10019081   ㅇㅓㄷㅡㅣㅇㅑ ㅺㅣㄹㅺㅣㄹ ㅅㅗ ㅁㅗㄹㅏ ㄱㅏㄴㅡㄴ ㄴㅗㄹㅏㅇ ㄷㅡㅣㄱㅜㅇㅇㅣ ㄷㅓㅂㅓㅇ ㅁㅓㄹㅣ                 \n",
       "L10022821   ㅇㅣㄴㅕㄴㅇㅏ ㅁㅏㄹ ㄷㅡㅅㄱㅓㄹㅏ ㄱㅜㅂㄱㅗ ㄴㅏㅁㅏ ㅈㅑㅈㅣㄹㄴㅕㄴㅇㅏ                              \n",
       "L10006771   ㄴㅜㄴㅇㅏㄴㅜㄴㅇㅏ ㅁㅓㄹㅡㅊㅣㄹ ㄴㅜㄴㅇㅏ ㄷㅜ ㅅㅗㄴ ㅈㅏㅇㄱㅏㄹㅏㄱㅇㅡㄹㅗ ㅺㅗㄱ ㅈㅣㄹㄴㅓ ㅁㅓㄹㅡㅊㅣㄹ ㄴㅜㄴㅇㅏ   \n",
       "L10007731   ㄷㆍㄹㅇㅏ ㅂㆍᇃㅇㅡㄴ ㄷㆍㄹㅇㅏ ㅇㅣㅌㅐㅂㅐㄱㅇㅣ ㄴㅗㄷㅡㄴ ㄷㆍㄹㅇㅏ                               \n",
       "...                                                                          ...   \n",
       "L10022011   ㅇㅜㅈㅓㅇㅇㅜㅓㅈㅓㅇㅎㆍㅁㅕ ㅅㅔㅇㅜㅓㄹㅇㅣ ㄱㅓㅇㅡㅣㄹㅗㄷㅏ                                     \n",
       "L10022361   ㅇㅜㅣㅅㅓㅇㄱㅗㅏㄴ ㅇㅠㅅㅜㄹㅡㄹ ㅊㅓㅇㅡㅁㅇㅡㅣ ㅅㅣㅁㄱㅡㄴ ㅼㅡㅇㅡㄴ                               \n",
       "L10022711   ㅇㅡㄴㅎㅏㅇㅔ ㅁㅜㄹㅇㅣ ㅈㅣㄴㅣ ㅇㅗㅈㅏㄱㄱㅛ ㅼㅡㄷㅏㄴㅁㅏㄹㄱㅏ                                  \n",
       "L10023081   ㄴㅣ ㅁㅗㅁㅇㅔ ㄱㅏㅈㅣㄴ ㅂㅕㅇㅇㅣ ㅎㆍㄴㄷㅜ ㄱㅏㅈㅣ ㅇㅏㄴㅣㄹㅗㄷㅏ                               \n",
       "L10023431   ㅇㅣㅂㅕㄹㅇㅣ ㅂㅜㄹㅇㅣ ㄷㅗㅣㄴㅣ ㄱㅏㄴㅈㅏㅇㅇㅡㄹ ㅌㆍㄴㅗㅁㆎㄹㅏ                                 \n",
       "\n",
       "           Pattern  Value  \n",
       "LineNumber                 \n",
       "L10000011   NaN     1      \n",
       "L10019081   NaN     1      \n",
       "L10022821   NaN     1      \n",
       "L10006771   NaN     1      \n",
       "L10007731   NaN     1      \n",
       "...         ...    ..      \n",
       "L10022011   NaN     0      \n",
       "L10022361   NaN     0      \n",
       "L10022711   NaN     0      \n",
       "L10023081   NaN     0      \n",
       "L10023431   NaN     0      \n",
       "\n",
       "[136 rows x 5 columns]"
      ]
     },
     "execution_count": 3,
     "metadata": {},
     "output_type": "execute_result"
    }
   ],
   "source": [
    "import numpy as np\n",
    "import pandas as pd\n",
    "import os\n",
    "\n",
    "base_dir = 'D:/Data'\n",
    "excel_file = 'N68_2.xlsx'\n",
    "excel_dir = os.path.join(base_dir, excel_file)\n",
    "\n",
    "lines_df = pd.read_excel(excel_dir, encoding = 'ISO-8859-1',\n",
    "                              sheet_name = 'Sheet1', \n",
    "                              header = 0, \n",
    "                              names = ['LineNumber','Text','Line_Num','Line', 'Pattern','Value'], \n",
    "                              dtype = { 'LineNumber': str, \n",
    "                                        'Line_Num': np.int64, \n",
    "                                        'Text': str, \n",
    "                                        'Line': str, \n",
    "                                        'Pattern': str, \n",
    "                                        'Value': np.int64 \n",
    "                                       }, \n",
    "                              index_col = 'LineNumber', \n",
    "                              na_values = 'NaN', \n",
    "                              comment = '#')\n",
    "lines_df"
   ]
  },
  {
   "cell_type": "code",
   "execution_count": 4,
   "metadata": {},
   "outputs": [
    {
     "data": {
      "text/plain": [
       "136"
      ]
     },
     "execution_count": 4,
     "metadata": {},
     "output_type": "execute_result"
    }
   ],
   "source": [
    "len(lines_df)"
   ]
  },
  {
   "cell_type": "code",
   "execution_count": 5,
   "metadata": {
    "scrolled": true
   },
   "outputs": [
    {
     "data": {
      "text/plain": [
       "Text        136\n",
       "Line_Num    1  \n",
       "Line        135\n",
       "Pattern     0  \n",
       "Value       2  \n",
       "dtype: int64"
      ]
     },
     "execution_count": 5,
     "metadata": {},
     "output_type": "execute_result"
    }
   ],
   "source": [
    "lines_df.nunique()"
   ]
  },
  {
   "cell_type": "markdown",
   "metadata": {},
   "source": [
    "# Fn1 : to_word_chunk"
   ]
  },
  {
   "cell_type": "code",
   "execution_count": 6,
   "metadata": {},
   "outputs": [],
   "source": [
    "# 함수 : New Syllable centered word chunks(1개의 문장으로 만듦) - Train 용\n",
    "# rule 1 : vowel + Blank(\"B로 표시\") - 하나의 문장으로 만들기 위해 빈칸 더해 줌\n",
    "# rule 2 : 2-5개 음절 chunk\n",
    "\n",
    "def to_word_chunk(text_list): \n",
    "    test_list_new = []\n",
    "    for each_item in text_list:\n",
    "        each_list = each_item.split() \n",
    "        d=[]\n",
    "        e =\"\"    \n",
    "        for each_word in each_list:\n",
    "            if len(each_word)/3 < 1.7:\n",
    "                e+=each_word[:-2]+\" \"\n",
    "                e+=each_word[-2:]+\"B \"           \n",
    "            \n",
    "            elif len(each_word)/3 >= 1.7 and  len(each_word)/3 < 3:\n",
    "                e+=each_word[:2]+\" \"\n",
    "                e+=each_word[2:-2]+\" \"\n",
    "                e+=each_word[-2:]+\"B \"            \n",
    "            elif len(each_word)/3 >=3 and len(each_word)/3 <5:\n",
    "                e+=each_word[:2]+\" \"\n",
    "                e+=each_word[2:-4]+\" \"       \n",
    "                e+=each_word[-4:-2]+\" \"\n",
    "                e+=each_word[-2:]+\"B \"            \n",
    "            elif len(each_word)/3 >=5 and len(each_word)/3 <8:\n",
    "                e+=each_word[:2]+\" \"\n",
    "                e+=each_word[2:6]+\" \"        \n",
    "                e+=each_word[6:-2]+\" \"\n",
    "                e+=each_word[-2:]+\"B \"                       \n",
    "            elif len(each_word)/3 >=8 and len(each_word)/3 <11:\n",
    "                e+=each_word[:2]+\" \"\n",
    "                e+=each_word[2:6]+\" \"  \n",
    "                e+=each_word[6:12]+\" \"\n",
    "                e+=each_word[12:19]+\" \"\n",
    "                e+=each_word[19:-2]+\" \"\n",
    "                e+=each_word[-2:]+\"B \"            \n",
    "            else: \n",
    "                e+=each_word[:2]+\" \"\n",
    "                e+=each_word[2:6]+\" \"    \n",
    "                e+=each_word[6:12]+\" \"\n",
    "                e+=each_word[12:19]+\" \"\n",
    "                e+=each_word[19:22]+\" \"\n",
    "                e+=each_word[22:26]+\" \"\n",
    "                e+=each_word[26:-2]+\" \"\n",
    "                e+=each_word[-2:]+\"B \"\n",
    "        test_list_new.append(e)\n",
    "    return test_list_new"
   ]
  },
  {
   "cell_type": "code",
   "execution_count": 7,
   "metadata": {},
   "outputs": [],
   "source": [
    "text = lines_df.iloc[:,2].values.tolist() \n",
    "chunked_text = to_word_chunk(text)"
   ]
  },
  {
   "cell_type": "code",
   "execution_count": 8,
   "metadata": {},
   "outputs": [],
   "source": [
    "lines_df[\"chunked_text\"] = chunked_text"
   ]
  },
  {
   "cell_type": "code",
   "execution_count": 9,
   "metadata": {},
   "outputs": [
    {
     "data": {
      "text/html": [
       "<div>\n",
       "<style scoped>\n",
       "    .dataframe tbody tr th:only-of-type {\n",
       "        vertical-align: middle;\n",
       "    }\n",
       "\n",
       "    .dataframe tbody tr th {\n",
       "        vertical-align: top;\n",
       "    }\n",
       "\n",
       "    .dataframe thead th {\n",
       "        text-align: right;\n",
       "    }\n",
       "</style>\n",
       "<table border=\"1\" class=\"dataframe\">\n",
       "  <thead>\n",
       "    <tr style=\"text-align: right;\">\n",
       "      <th></th>\n",
       "      <th>Text</th>\n",
       "      <th>Line_Num</th>\n",
       "      <th>Line</th>\n",
       "      <th>Pattern</th>\n",
       "      <th>Value</th>\n",
       "      <th>chunked_text</th>\n",
       "    </tr>\n",
       "    <tr>\n",
       "      <th>LineNumber</th>\n",
       "      <th></th>\n",
       "      <th></th>\n",
       "      <th></th>\n",
       "      <th></th>\n",
       "      <th></th>\n",
       "      <th></th>\n",
       "    </tr>\n",
       "  </thead>\n",
       "  <tbody>\n",
       "    <tr>\n",
       "      <th>L10000011</th>\n",
       "      <td>가노라 가노라 임아 언양 단천의 풍월 강산으로 가노라 임아</td>\n",
       "      <td>1</td>\n",
       "      <td>ㄱㅏㄴㅗㄹㅏ ㄱㅏㄴㅗㄹㅏ ㅇㅣㅁㅇㅏ ㅇㅓㄴㅇㅑㅇ ㄷㅏㄴㅊㅓㄴㅇㅡㅣ ㅍㅜㅇㅇㅜㅓㄹ ㄱㅏㅇㅅㅏㄴㅇㅡㄹㅗ ㄱㅏㄴㅗㄹㅏ ㅇㅣㅁㅇㅏ</td>\n",
       "      <td>NaN</td>\n",
       "      <td>1</td>\n",
       "      <td>ㄱㅏ ㄴㅗ ㄹㅏB ㄱㅏ ㄴㅗ ㄹㅏB ㅇㅣㅁ ㅇㅏB ㅇㅓ ㄴㅇ ㅑㅇB ㄷㅏ ㄴㅊㅓ ㄴㅇ ㅡㅣB ㅍㅜ ㅇㅇㅜ ㅓㄹB ㄱㅏ ㅇㅅㅏㄴ ㅇㅡ ㄹㅗB ㄱㅏ ㄴㅗ ㄹㅏB ㅇㅣㅁ ㅇㅏB</td>\n",
       "    </tr>\n",
       "    <tr>\n",
       "      <th>L10019081</th>\n",
       "      <td>어듸야  소 모라 가는 노랑 듸궁이 더벙 머리</td>\n",
       "      <td>1</td>\n",
       "      <td>ㅇㅓㄷㅡㅣㅇㅑ ㅺㅣㄹㅺㅣㄹ ㅅㅗ ㅁㅗㄹㅏ ㄱㅏㄴㅡㄴ ㄴㅗㄹㅏㅇ ㄷㅡㅣㄱㅜㅇㅇㅣ ㄷㅓㅂㅓㅇ ㅁㅓㄹㅣ</td>\n",
       "      <td>NaN</td>\n",
       "      <td>1</td>\n",
       "      <td>ㅇㅓ ㄷㅡㅣ ㅇㅑB ㅺㅣ ㄹㅺ ㅣㄹB  ㅅㅗB ㅁㅗ ㄹㅏB ㄱㅏㄴ ㅡㄴB ㄴㅗㄹ ㅏㅇB ㄷㅡ ㅣㄱㅜㅇ ㅇㅣB ㄷㅓㅂ ㅓㅇB ㅁㅓ ㄹㅣB</td>\n",
       "    </tr>\n",
       "    <tr>\n",
       "      <th>L10022821</th>\n",
       "      <td>이년아 말 듯거라 굽고 나마 쟈질년아</td>\n",
       "      <td>1</td>\n",
       "      <td>ㅇㅣㄴㅕㄴㅇㅏ ㅁㅏㄹ ㄷㅡㅅㄱㅓㄹㅏ ㄱㅜㅂㄱㅗ ㄴㅏㅁㅏ ㅈㅑㅈㅣㄹㄴㅕㄴㅇㅏ</td>\n",
       "      <td>NaN</td>\n",
       "      <td>1</td>\n",
       "      <td>ㅇㅣ ㄴㅕㄴ ㅇㅏB ㅁ ㅏㄹB ㄷㅡ ㅅㄱㅓ ㄹㅏB ㄱㅜㅂ ㄱㅗB ㄴㅏ ㅁㅏB ㅈㅑ ㅈㅣㄹㄴ ㅕㄴ ㅇㅏB</td>\n",
       "    </tr>\n",
       "    <tr>\n",
       "      <th>L10006771</th>\n",
       "      <td>눈아눈아 머르칠 눈아 두 손 장가락으로  질너 머르칠 눈아</td>\n",
       "      <td>1</td>\n",
       "      <td>ㄴㅜㄴㅇㅏㄴㅜㄴㅇㅏ ㅁㅓㄹㅡㅊㅣㄹ ㄴㅜㄴㅇㅏ ㄷㅜ ㅅㅗㄴ ㅈㅏㅇㄱㅏㄹㅏㄱㅇㅡㄹㅗ ㅺㅗㄱ ㅈㅣㄹㄴㅓ ㅁㅓㄹㅡㅊㅣㄹ ㄴㅜㄴㅇㅏ</td>\n",
       "      <td>NaN</td>\n",
       "      <td>1</td>\n",
       "      <td>ㄴㅜ ㄴㅇㅏㄴ ㅜㄴ ㅇㅏB ㅁㅓ ㄹㅡㅊ ㅣㄹB ㄴㅜㄴ ㅇㅏB  ㄷㅜB ㅅ ㅗㄴB ㅈㅏ ㅇㄱㅏㄹㅏㄱ ㅇㅡ ㄹㅗB ㅺ ㅗㄱB ㅈㅣㄹ ㄴㅓB ㅁㅓ ㄹㅡㅊ ㅣㄹB ㄴㅜㄴ ㅇㅏB</td>\n",
       "    </tr>\n",
       "    <tr>\n",
       "      <th>L10007731</th>\n",
       "      <td>아 은 아 李太白이 노든 아</td>\n",
       "      <td>1</td>\n",
       "      <td>ㄷㆍㄹㅇㅏ ㅂㆍᇃㅇㅡㄴ ㄷㆍㄹㅇㅏ ㅇㅣㅌㅐㅂㅐㄱㅇㅣ ㄴㅗㄷㅡㄴ ㄷㆍㄹㅇㅏ</td>\n",
       "      <td>NaN</td>\n",
       "      <td>1</td>\n",
       "      <td>ㄷㆍㄹ ㅇㅏB ㅂㆍ ᇃㅇ ㅡㄴB ㄷㆍㄹ ㅇㅏB ㅇㅣ ㅌㅐㅂ ㅐㄱ ㅇㅣB ㄴㅗㄷ ㅡㄴB ㄷㆍㄹ ㅇㅏB</td>\n",
       "    </tr>\n",
       "    <tr>\n",
       "      <th>...</th>\n",
       "      <td>...</td>\n",
       "      <td>...</td>\n",
       "      <td>...</td>\n",
       "      <td>...</td>\n",
       "      <td>...</td>\n",
       "      <td>...</td>\n",
       "    </tr>\n",
       "    <tr>\n",
       "      <th>L10022011</th>\n",
       "      <td>우정워정며 歲月이 거의로다</td>\n",
       "      <td>1</td>\n",
       "      <td>ㅇㅜㅈㅓㅇㅇㅜㅓㅈㅓㅇㅎㆍㅁㅕ ㅅㅔㅇㅜㅓㄹㅇㅣ ㄱㅓㅇㅡㅣㄹㅗㄷㅏ</td>\n",
       "      <td>NaN</td>\n",
       "      <td>0</td>\n",
       "      <td>ㅇㅜ ㅈㅓㅇㅇ ㅜㅓㅈㅓㅇㅎㆍ ㅁㅕB ㅅㅔ ㅇㅜㅓㄹ ㅇㅣB ㄱㅓ ㅇㅡㅣ ㄹㅗ ㄷㅏB</td>\n",
       "    </tr>\n",
       "    <tr>\n",
       "      <th>L10022361</th>\n",
       "      <td>渭城官 柳樹를 처음의 심근 은</td>\n",
       "      <td>1</td>\n",
       "      <td>ㅇㅜㅣㅅㅓㅇㄱㅗㅏㄴ ㅇㅠㅅㅜㄹㅡㄹ ㅊㅓㅇㅡㅁㅇㅡㅣ ㅅㅣㅁㄱㅡㄴ ㅼㅡㅇㅡㄴ</td>\n",
       "      <td>NaN</td>\n",
       "      <td>0</td>\n",
       "      <td>ㅇㅜ ㅣㅅㅓㅇ ㄱㅗ ㅏㄴB ㅇㅠ ㅅㅜㄹ ㅡㄹB ㅊㅓ ㅇㅡㅁㅇ ㅡㅣB ㅅㅣ ㅁㄱ ㅡㄴB ㅼㅡㅇ ㅡㄴB</td>\n",
       "    </tr>\n",
       "    <tr>\n",
       "      <th>L10022711</th>\n",
       "      <td>銀河에 물이 지니 烏鵲橋 단말가</td>\n",
       "      <td>1</td>\n",
       "      <td>ㅇㅡㄴㅎㅏㅇㅔ ㅁㅜㄹㅇㅣ ㅈㅣㄴㅣ ㅇㅗㅈㅏㄱㄱㅛ ㅼㅡㄷㅏㄴㅁㅏㄹㄱㅏ</td>\n",
       "      <td>NaN</td>\n",
       "      <td>0</td>\n",
       "      <td>ㅇㅡ ㄴㅎㅏ ㅇㅔB ㅁㅜㄹ ㅇㅣB ㅈㅣ ㄴㅣB ㅇㅗ ㅈㅏㄱ ㄱㅛB ㅼㅡ ㄷㅏㄴㅁ ㅏㄹ ㄱㅏB</td>\n",
       "    </tr>\n",
       "    <tr>\n",
       "      <th>L10023081</th>\n",
       "      <td>니 몸에 가진 病이 두 가지 아니로다</td>\n",
       "      <td>1</td>\n",
       "      <td>ㄴㅣ ㅁㅗㅁㅇㅔ ㄱㅏㅈㅣㄴ ㅂㅕㅇㅇㅣ ㅎㆍㄴㄷㅜ ㄱㅏㅈㅣ ㅇㅏㄴㅣㄹㅗㄷㅏ</td>\n",
       "      <td>NaN</td>\n",
       "      <td>0</td>\n",
       "      <td>ㄴㅣB ㅁㅗㅁ ㅇㅔB ㄱㅏㅈ ㅣㄴB ㅂㅕㅇ ㅇㅣB ㅎㆍㄴ ㄷㅜB ㄱㅏ ㅈㅣB ㅇㅏ ㄴㅣㄹㅗ ㄷㅏB</td>\n",
       "    </tr>\n",
       "    <tr>\n",
       "      <th>L10023431</th>\n",
       "      <td>離別이 불이 되니 肝腸을 노라</td>\n",
       "      <td>1</td>\n",
       "      <td>ㅇㅣㅂㅕㄹㅇㅣ ㅂㅜㄹㅇㅣ ㄷㅗㅣㄴㅣ ㄱㅏㄴㅈㅏㅇㅇㅡㄹ ㅌㆍㄴㅗㅁㆎㄹㅏ</td>\n",
       "      <td>NaN</td>\n",
       "      <td>0</td>\n",
       "      <td>ㅇㅣ ㅂㅕㄹ ㅇㅣB ㅂㅜㄹ ㅇㅣB ㄷㅗㅣ ㄴㅣB ㄱㅏ ㄴㅈㅏ ㅇㅇ ㅡㄹB ㅌㆍ ㄴㅗㅁㆎ ㄹㅏB</td>\n",
       "    </tr>\n",
       "  </tbody>\n",
       "</table>\n",
       "<p>136 rows × 6 columns</p>\n",
       "</div>"
      ],
      "text/plain": [
       "                                         Text  Line_Num  \\\n",
       "LineNumber                                                \n",
       "L10000011   가노라 가노라 임아 언양 단천의 풍월 강산으로 가노라 임아   1          \n",
       "L10019081   어듸야  소 모라 가는 노랑 듸궁이 더벙 머리        1          \n",
       "L10022821   이년아 말 듯거라 굽고 나마 쟈질년아               1          \n",
       "L10006771   눈아눈아 머르칠 눈아 두 손 장가락으로  질너 머르칠 눈아  1          \n",
       "L10007731   아 은 아 李太白이 노든 아                1          \n",
       "...                                       ... ..          \n",
       "L10022011   우정워정며 歲月이 거의로다                    1          \n",
       "L10022361   渭城官 柳樹를 처음의 심근 은                  1          \n",
       "L10022711   銀河에 물이 지니 烏鵲橋 단말가                 1          \n",
       "L10023081   니 몸에 가진 病이 두 가지 아니로다              1          \n",
       "L10023431   離別이 불이 되니 肝腸을 노라                 1          \n",
       "\n",
       "                                                                            Line  \\\n",
       "LineNumber                                                                         \n",
       "L10000011   ㄱㅏㄴㅗㄹㅏ ㄱㅏㄴㅗㄹㅏ ㅇㅣㅁㅇㅏ ㅇㅓㄴㅇㅑㅇ ㄷㅏㄴㅊㅓㄴㅇㅡㅣ ㅍㅜㅇㅇㅜㅓㄹ ㄱㅏㅇㅅㅏㄴㅇㅡㄹㅗ ㄱㅏㄴㅗㄹㅏ ㅇㅣㅁㅇㅏ   \n",
       "L10019081   ㅇㅓㄷㅡㅣㅇㅑ ㅺㅣㄹㅺㅣㄹ ㅅㅗ ㅁㅗㄹㅏ ㄱㅏㄴㅡㄴ ㄴㅗㄹㅏㅇ ㄷㅡㅣㄱㅜㅇㅇㅣ ㄷㅓㅂㅓㅇ ㅁㅓㄹㅣ                 \n",
       "L10022821   ㅇㅣㄴㅕㄴㅇㅏ ㅁㅏㄹ ㄷㅡㅅㄱㅓㄹㅏ ㄱㅜㅂㄱㅗ ㄴㅏㅁㅏ ㅈㅑㅈㅣㄹㄴㅕㄴㅇㅏ                              \n",
       "L10006771   ㄴㅜㄴㅇㅏㄴㅜㄴㅇㅏ ㅁㅓㄹㅡㅊㅣㄹ ㄴㅜㄴㅇㅏ ㄷㅜ ㅅㅗㄴ ㅈㅏㅇㄱㅏㄹㅏㄱㅇㅡㄹㅗ ㅺㅗㄱ ㅈㅣㄹㄴㅓ ㅁㅓㄹㅡㅊㅣㄹ ㄴㅜㄴㅇㅏ   \n",
       "L10007731   ㄷㆍㄹㅇㅏ ㅂㆍᇃㅇㅡㄴ ㄷㆍㄹㅇㅏ ㅇㅣㅌㅐㅂㅐㄱㅇㅣ ㄴㅗㄷㅡㄴ ㄷㆍㄹㅇㅏ                               \n",
       "...                                                                          ...   \n",
       "L10022011   ㅇㅜㅈㅓㅇㅇㅜㅓㅈㅓㅇㅎㆍㅁㅕ ㅅㅔㅇㅜㅓㄹㅇㅣ ㄱㅓㅇㅡㅣㄹㅗㄷㅏ                                     \n",
       "L10022361   ㅇㅜㅣㅅㅓㅇㄱㅗㅏㄴ ㅇㅠㅅㅜㄹㅡㄹ ㅊㅓㅇㅡㅁㅇㅡㅣ ㅅㅣㅁㄱㅡㄴ ㅼㅡㅇㅡㄴ                               \n",
       "L10022711   ㅇㅡㄴㅎㅏㅇㅔ ㅁㅜㄹㅇㅣ ㅈㅣㄴㅣ ㅇㅗㅈㅏㄱㄱㅛ ㅼㅡㄷㅏㄴㅁㅏㄹㄱㅏ                                  \n",
       "L10023081   ㄴㅣ ㅁㅗㅁㅇㅔ ㄱㅏㅈㅣㄴ ㅂㅕㅇㅇㅣ ㅎㆍㄴㄷㅜ ㄱㅏㅈㅣ ㅇㅏㄴㅣㄹㅗㄷㅏ                               \n",
       "L10023431   ㅇㅣㅂㅕㄹㅇㅣ ㅂㅜㄹㅇㅣ ㄷㅗㅣㄴㅣ ㄱㅏㄴㅈㅏㅇㅇㅡㄹ ㅌㆍㄴㅗㅁㆎㄹㅏ                                 \n",
       "\n",
       "           Pattern  Value  \\\n",
       "LineNumber                  \n",
       "L10000011   NaN     1       \n",
       "L10019081   NaN     1       \n",
       "L10022821   NaN     1       \n",
       "L10006771   NaN     1       \n",
       "L10007731   NaN     1       \n",
       "...         ...    ..       \n",
       "L10022011   NaN     0       \n",
       "L10022361   NaN     0       \n",
       "L10022711   NaN     0       \n",
       "L10023081   NaN     0       \n",
       "L10023431   NaN     0       \n",
       "\n",
       "                                                                                                chunked_text  \n",
       "LineNumber                                                                                                    \n",
       "L10000011   ㄱㅏ ㄴㅗ ㄹㅏB ㄱㅏ ㄴㅗ ㄹㅏB ㅇㅣㅁ ㅇㅏB ㅇㅓ ㄴㅇ ㅑㅇB ㄷㅏ ㄴㅊㅓ ㄴㅇ ㅡㅣB ㅍㅜ ㅇㅇㅜ ㅓㄹB ㄱㅏ ㅇㅅㅏㄴ ㅇㅡ ㄹㅗB ㄱㅏ ㄴㅗ ㄹㅏB ㅇㅣㅁ ㅇㅏB   \n",
       "L10019081   ㅇㅓ ㄷㅡㅣ ㅇㅑB ㅺㅣ ㄹㅺ ㅣㄹB  ㅅㅗB ㅁㅗ ㄹㅏB ㄱㅏㄴ ㅡㄴB ㄴㅗㄹ ㅏㅇB ㄷㅡ ㅣㄱㅜㅇ ㅇㅣB ㄷㅓㅂ ㅓㅇB ㅁㅓ ㄹㅣB                       \n",
       "L10022821   ㅇㅣ ㄴㅕㄴ ㅇㅏB ㅁ ㅏㄹB ㄷㅡ ㅅㄱㅓ ㄹㅏB ㄱㅜㅂ ㄱㅗB ㄴㅏ ㅁㅏB ㅈㅑ ㅈㅣㄹㄴ ㅕㄴ ㅇㅏB                                         \n",
       "L10006771   ㄴㅜ ㄴㅇㅏㄴ ㅜㄴ ㅇㅏB ㅁㅓ ㄹㅡㅊ ㅣㄹB ㄴㅜㄴ ㅇㅏB  ㄷㅜB ㅅ ㅗㄴB ㅈㅏ ㅇㄱㅏㄹㅏㄱ ㅇㅡ ㄹㅗB ㅺ ㅗㄱB ㅈㅣㄹ ㄴㅓB ㅁㅓ ㄹㅡㅊ ㅣㄹB ㄴㅜㄴ ㅇㅏB    \n",
       "L10007731   ㄷㆍㄹ ㅇㅏB ㅂㆍ ᇃㅇ ㅡㄴB ㄷㆍㄹ ㅇㅏB ㅇㅣ ㅌㅐㅂ ㅐㄱ ㅇㅣB ㄴㅗㄷ ㅡㄴB ㄷㆍㄹ ㅇㅏB                                           \n",
       "...                                                                                                     ...   \n",
       "L10022011   ㅇㅜ ㅈㅓㅇㅇ ㅜㅓㅈㅓㅇㅎㆍ ㅁㅕB ㅅㅔ ㅇㅜㅓㄹ ㅇㅣB ㄱㅓ ㅇㅡㅣ ㄹㅗ ㄷㅏB                                                     \n",
       "L10022361   ㅇㅜ ㅣㅅㅓㅇ ㄱㅗ ㅏㄴB ㅇㅠ ㅅㅜㄹ ㅡㄹB ㅊㅓ ㅇㅡㅁㅇ ㅡㅣB ㅅㅣ ㅁㄱ ㅡㄴB ㅼㅡㅇ ㅡㄴB                                           \n",
       "L10022711   ㅇㅡ ㄴㅎㅏ ㅇㅔB ㅁㅜㄹ ㅇㅣB ㅈㅣ ㄴㅣB ㅇㅗ ㅈㅏㄱ ㄱㅛB ㅼㅡ ㄷㅏㄴㅁ ㅏㄹ ㄱㅏB                                               \n",
       "L10023081    ㄴㅣB ㅁㅗㅁ ㅇㅔB ㄱㅏㅈ ㅣㄴB ㅂㅕㅇ ㅇㅣB ㅎㆍㄴ ㄷㅜB ㄱㅏ ㅈㅣB ㅇㅏ ㄴㅣㄹㅗ ㄷㅏB                                           \n",
       "L10023431   ㅇㅣ ㅂㅕㄹ ㅇㅣB ㅂㅜㄹ ㅇㅣB ㄷㅗㅣ ㄴㅣB ㄱㅏ ㄴㅈㅏ ㅇㅇ ㅡㄹB ㅌㆍ ㄴㅗㅁㆎ ㄹㅏB                                              \n",
       "\n",
       "[136 rows x 6 columns]"
      ]
     },
     "execution_count": 9,
     "metadata": {},
     "output_type": "execute_result"
    }
   ],
   "source": [
    "lines_df"
   ]
  },
  {
   "cell_type": "code",
   "execution_count": 10,
   "metadata": {},
   "outputs": [],
   "source": [
    "lines_df_small = lines_df.head(130)"
   ]
  },
  {
   "cell_type": "code",
   "execution_count": 11,
   "metadata": {},
   "outputs": [],
   "source": [
    "from gensim.parsing.preprocessing import remove_stopwords\n",
    "from gensim.utils import simple_preprocess\n",
    "\n",
    "def text_to_tokens(text):\n",
    "    text = text.lower()\n",
    "    text = remove_stopwords(text)\n",
    "    tokens = simple_preprocess(text)\n",
    "    return tokens"
   ]
  },
  {
   "cell_type": "code",
   "execution_count": 12,
   "metadata": {},
   "outputs": [],
   "source": [
    "class DocumentDataset(object):\n",
    "    \n",
    "    def __init__(self, data:pd.DataFrame, column):\n",
    "        document = data[column].apply(self.preprocess)\n",
    "        self.documents = [ TaggedDocument( text, [index]) \n",
    "                          for index, text in document.iteritems() ]\n",
    "      \n",
    "    def preprocess(self, document):\n",
    "        return preprocess_string(remove_stopwords(document))\n",
    "        \n",
    "    def __iter__(self):\n",
    "        for document in self.documents:\n",
    "            yield documents\n",
    "            \n",
    "    def tagged_documents(self, shuffle=False):\n",
    "        if shuffle:\n",
    "            random.shuffle(self.documents)\n",
    "        return self.documents"
   ]
  },
  {
   "cell_type": "code",
   "execution_count": 13,
   "metadata": {},
   "outputs": [],
   "source": [
    "documents_dataset = DocumentDataset(lines_df_small, 'chunked_text')"
   ]
  },
  {
   "cell_type": "code",
   "execution_count": null,
   "metadata": {},
   "outputs": [],
   "source": []
  },
  {
   "cell_type": "markdown",
   "metadata": {},
   "source": [
    "# Document Vector Model 적용"
   ]
  },
  {
   "cell_type": "code",
   "execution_count": 14,
   "metadata": {},
   "outputs": [],
   "source": [
    "docVecModel = Doc2Vec(min_count=3, window=10, vector_size=50, sample=1e-4, negative=2, workers=8) #sample=1e-4,\n",
    "docVecModel.build_vocab(documents_dataset.tagged_documents())"
   ]
  },
  {
   "cell_type": "code",
   "execution_count": 15,
   "metadata": {},
   "outputs": [],
   "source": [
    "docVecModel.train(documents_dataset.tagged_documents(shuffle=True),\n",
    "            total_examples = docVecModel.corpus_count,\n",
    "           epochs=1000)"
   ]
  },
  {
   "cell_type": "code",
   "execution_count": 16,
   "metadata": {},
   "outputs": [
    {
     "data": {
      "text/plain": [
       "130"
      ]
     },
     "execution_count": 16,
     "metadata": {},
     "output_type": "execute_result"
    }
   ],
   "source": [
    "docVecModel.corpus_count"
   ]
  },
  {
   "cell_type": "code",
   "execution_count": 17,
   "metadata": {},
   "outputs": [],
   "source": [
    "docVecModel.save('../data/SizoChunkedLinesModel.d2v')"
   ]
  },
  {
   "cell_type": "code",
   "execution_count": 18,
   "metadata": {},
   "outputs": [],
   "source": [
    "docVecModel = Doc2Vec.load('../data/SizoChunkedLinesModel.d2v')"
   ]
  },
  {
   "cell_type": "code",
   "execution_count": 20,
   "metadata": {},
   "outputs": [
    {
     "data": {
      "text/plain": [
       "array([-0.08874116, -0.01102531, -0.12691852, -0.16775268,  0.06631801,\n",
       "        0.07212813, -0.12082723,  0.09758611, -0.14671516,  0.1206121 ,\n",
       "        0.11714982,  0.27471316, -0.06195598,  0.04137366, -0.02586757,\n",
       "        0.1265664 ,  0.07194417, -0.07940786, -0.08936572,  0.01166478,\n",
       "       -0.03395585, -0.08541073, -0.12977447,  0.07255173,  0.15387377,\n",
       "       -0.07978975,  0.15569013,  0.1848203 , -0.13176674, -0.23058985,\n",
       "        0.05339517,  0.02183436,  0.18888526, -0.08454058, -0.03921777,\n",
       "        0.12681952, -0.13782306,  0.09428693, -0.1575063 ,  0.23127954,\n",
       "       -0.37632665,  0.06471734,  0.03936909,  0.08192208,  0.03068812,\n",
       "       -0.13277143, -0.20689715, -0.02357344,  0.03814089, -0.06602477],\n",
       "      dtype=float32)"
      ]
     },
     "execution_count": 20,
     "metadata": {},
     "output_type": "execute_result"
    }
   ],
   "source": [
    "docVecModel['L10007731']"
   ]
  },
  {
   "cell_type": "code",
   "execution_count": 21,
   "metadata": {},
   "outputs": [],
   "source": [
    "import matplotlib.pyplot as plt\n",
    "plt.style.use('fivethirtyeight')\n",
    "\n",
    "def show_image(vector, line):\n",
    "    fig, ax = plt.subplots(1,1, figsize=(10, 2))\n",
    "    ax.tick_params(axis='both', \n",
    "                   which='both',\n",
    "                   left=False, \n",
    "                   bottom=False, \n",
    "                   top=False,\n",
    "                   labelleft=False, \n",
    "                   labelbottom=False)\n",
    "    ax.grid(False)\n",
    "    print(line)\n",
    "    ax.bar(range(len(vector)), vector, 0.5)\n",
    "   \n",
    "    \n",
    "def show_movie_line(line_number):\n",
    "    line = lines_df_small.loc[line_number].chunked_text  #lines_df_small.ix[line_number].Line \n",
    "    Text = lines_df_small.loc[line_number].Text\n",
    "    doc_vector = docVecModel.docvecs[line_number]\n",
    "    show_image(doc_vector, Text) #line\n",
    "    "
   ]
  },
  {
   "cell_type": "code",
   "execution_count": 22,
   "metadata": {},
   "outputs": [
    {
     "name": "stdout",
     "output_type": "stream",
     "text": [
      "아 은 아 李太白이 노든 아\n"
     ]
    },
    {
     "data": {
      "image/png": "[encoded data removed]",
      "text/plain": [
       "<Figure size 720x144 with 1 Axes>"
      ]
     },
     "metadata": {},
     "output_type": "display_data"
    }
   ],
   "source": [
    "show_movie_line('L10007731')"
   ]
  },
  {
   "cell_type": "code",
   "execution_count": 23,
   "metadata": {},
   "outputs": [
    {
     "data": {
      "text/plain": [
       "[('L10005431', 0.8191916942596436),\n",
       " ('L10032741', 0.8065859079360962),\n",
       " ('L10009821', 0.7942101359367371),\n",
       " ('L10001801', 0.7935289740562439),\n",
       " ('L10016651', 0.7900261282920837),\n",
       " ('L10013601', 0.7846131920814514),\n",
       " ('L10022821', 0.7825129628181458),\n",
       " ('L10016591', 0.7812583446502686),\n",
       " ('L10006771', 0.7754442095756531),\n",
       " ('L10013281', 0.7752472758293152)]"
      ]
     },
     "execution_count": 23,
     "metadata": {},
     "output_type": "execute_result"
    }
   ],
   "source": [
    "docVecModel.docvecs.most_similar('L10007731')"
   ]
  },
  {
   "cell_type": "code",
   "execution_count": 24,
   "metadata": {},
   "outputs": [
    {
     "name": "stdout",
     "output_type": "stream",
     "text": [
      "섭시른 千里馬를 알아 볼 이 뉘 잇시리\n"
     ]
    },
    {
     "data": {
      "image/png": "[encoded data removed]",
      "text/plain": [
       "<Figure size 720x144 with 1 Axes>"
      ]
     },
     "metadata": {},
     "output_type": "display_data"
    }
   ],
   "source": [
    "show_movie_line('L10015921')"
   ]
  },
  {
   "cell_type": "code",
   "execution_count": 25,
   "metadata": {},
   "outputs": [
    {
     "data": {
      "text/plain": [
       "array([ 0.03597284,  0.0126755 , -0.00742718, -0.0023227 ,  0.02333968,\n",
       "       -0.00602289, -0.04169352,  0.02051531,  0.03401949, -0.00382624,\n",
       "        0.00049167,  0.03916926,  0.0342214 ,  0.02861368, -0.00359089,\n",
       "        0.03409337,  0.01775055, -0.02220078, -0.02404488,  0.01978154,\n",
       "       -0.05534292,  0.03447651, -0.03641912, -0.006731  ,  0.00096406,\n",
       "        0.0097194 , -0.0094067 , -0.01273003, -0.0075861 , -0.06164571,\n",
       "        0.0130432 ,  0.04533255,  0.02002482, -0.01849805,  0.01026782,\n",
       "        0.0409897 ,  0.01052407,  0.00333915, -0.02479685,  0.03413994,\n",
       "       -0.04050222,  0.01905057,  0.01808671,  0.01597623,  0.01753622,\n",
       "        0.01012772, -0.06808248, -0.00845405,  0.01091228, -0.00157498],\n",
       "      dtype=float32)"
      ]
     },
     "execution_count": 25,
     "metadata": {},
     "output_type": "execute_result"
    }
   ],
   "source": [
    "docVecModel['L10019151']"
   ]
  },
  {
   "cell_type": "code",
   "execution_count": 26,
   "metadata": {},
   "outputs": [],
   "source": [
    "def to_vector(sentence):\n",
    "    cleaned = preprocess_string(sentence)\n",
    "    docVector = docVecModel.infer_vector(cleaned)\n",
    "    return docVector"
   ]
  },
  {
   "cell_type": "code",
   "execution_count": 27,
   "metadata": {},
   "outputs": [
    {
     "name": "stdout",
     "output_type": "stream",
     "text": [
      "아 은 아 李太白이 노든 아\n"
     ]
    },
    {
     "data": {
      "image/png": "[encoded data removed]",
      "text/plain": [
       "<Figure size 720x144 with 1 Axes>"
      ]
     },
     "metadata": {},
     "output_type": "display_data"
    }
   ],
   "source": [
    "show_movie_line('L10007731')"
   ]
  },
  {
   "cell_type": "code",
   "execution_count": 28,
   "metadata": {},
   "outputs": [
    {
     "name": "stdout",
     "output_type": "stream",
     "text": [
      "ㅇㅓㄹㅡㄴㅈㅑ ㄴㅓㅊㅜㄹㅣㅇㅑ ㅇㅔㅇㅓㄹㅡㄴㅈㅑ ㅂㅏㄱㄴㅓㅊㅜㄹㅣㅇㅑ\n"
     ]
    },
    {
     "data": {
      "image/png": "[encoded data removed]",
      "text/plain": [
       "<Figure size 720x144 with 1 Axes>"
      ]
     },
     "metadata": {},
     "output_type": "display_data"
    }
   ],
   "source": [
    "line = \"ㅇㅓㄹㅡㄴㅈㅑ ㄴㅓㅊㅜㄹㅣㅇㅑ ㅇㅔㅇㅓㄹㅡㄴㅈㅑ ㅂㅏㄱㄴㅓㅊㅜㄹㅣㅇㅑ\"\n",
    "show_image(to_vector(\"ㅇㅓㄹㅡㄴㅈㅑ ㄴㅓㅊㅜㄹㅣㅇㅑ ㅇㅔㅇㅓㄹㅡㄴㅈㅑ ㅂㅏㄱㄴㅓㅊㅜㄹㅣㅇㅑ\"), line)"
   ]
  },
  {
   "cell_type": "code",
   "execution_count": 29,
   "metadata": {},
   "outputs": [
    {
     "data": {
      "text/plain": [
       "['ㄴㅏ ㄱㅇ ㅑㅇB ㅇㅑ ㅅㅌ ㅡㄴB ㅁㅜㄹ ㅇㅔB ㅇ ㅕㄴB ㅋㆎㄴ ㅡㄴB ㅇㅏ ㅎㅡㅣㄷ ㅡㄹ ㅇㅏB ',\n",
       " 'ㅂㅕ ㄱㄱㅖ ㅅㅜB ㅇㅑ ㅇㄹㅠㅈ ㅓㅇ ㅇㅔB ㅈㅏ ㅍㅗㅎ ㆍㄴB ㅇㅕ ㅇㅈㅜㄱ ㅐㄱ ㅇㅣB ',\n",
       " 'ㄷㆍㄹ ㅇㅏB ㅂㆍ ᇃㅇ ㅡㄴB ㄷㆍㄹ ㅇㅏB ㅇㅣ ㅌㅐㅂ ㅐㄱ ㅇㅣB ㄴㅗㄷ ㅡㄴB ㄷㆍㄹ ㅇㅏB ',\n",
       " 'ㅅㅏ ㄴㅈㅓㄴ ㅇㅔB ㅇㅠ ㄷㅐㅎㆍ ㄱㅗB ㄷㅐ ㅎㅏ ㅇㅐB ㅇㅠ ㅅㅜㅣ ㄹㅗ ㄷㅏB ',\n",
       " 'ㅅㅓ ㄱㅅㅏㅇ ㅇㅔB ㅈㅏ ㅇㅗㄷ ㅗㅇB ㅅㅓ ㄱㅈㆍㅁ ㅏㄴB ㅂㅓ ㅎㅕㄴ ㆎㅁ ㅕㄴB ',\n",
       " 'ㅇㅏ ㅎㅡㅣ ㅇㅏB ㄱㅜ ㄹㅓㄱㅁ ㅏㅇ ㅌㆎB ㅇㅓ ㄷㅓB ㅅㅓ ㅅㅏㄴ ㅇㅔB ㄴ ㅏㄹB ㄴㅡ ㅅㄱㅓ ㄷㅏB ',\n",
       " 'ㄴㅜ ㄴㅇㅏㄴ ㅜㄴ ㅇㅏB ㅁㅓ ㄹㅡㅊ ㅣㄹB ㄴㅜㄴ ㅇㅏB  ㄷㅜB ㅅ ㅗㄴB ㅈㅏ ㅇㄱㅏㄹㅏㄱ ㅇㅡ ㄹㅗB ㅺ ㅗㄱB ㅈㅣㄹ ㄴㅓB ㅁㅓ ㄹㅡㅊ ㅣㄹB ㄴㅜㄴ ㅇㅏB ',\n",
       " 'ㄱㅗㅅ ㅗㅇB ㄱㅣㅅ ㅓㄱB  ㄷㅜB ㅅㅏ ㅇㅣ ㅇㅖB ㅇㅓ ㅇㅕㅅㅂㅜ ㄹㅅ ㅡㄴB  ㅈㅕB ㄷㅜ ㄱㅕㄴ ㅇㅏB ',\n",
       " 'ㅂㅐ ㄱㅅㅓㄹ ㅇㅣB ㅈㆍ ㅈㆍㅈ ㅣㄴB ㄱㅗㄹ ㅇㅔB ㄱㅜ ㄹㅜㅁ ㅇㅣB ㅁㅓ ㅎㅡㄹㅔ ㄹㅏB ',\n",
       " 'ㅇㅓ ㄹㅡㄴ ㅈㅑB ㄴㅓ ㅊㅜㄹㅣ ㅇㅑB ㅇㅔ ㅇㅓㄹ ㅡㄴ ㅈㅑB ㅂㅏ ㄱㄴㅓㅊㅜ ㄹㅣ ㅇㅑB ']"
      ]
     },
     "execution_count": 29,
     "metadata": {},
     "output_type": "execute_result"
    }
   ],
   "source": [
    "def similar_movie_lines(sentence):\n",
    "    vector = to_vector(sentence)\n",
    "    similar_vectors = docVecModel.docvecs.most_similar(positive=[vector])\n",
    "    similar_lines = [ lines_df.loc[line[0]].chunked_text for line in similar_vectors]\n",
    "    return similar_lines\n",
    "\n",
    "similar_movie_lines(\"ㄱㅗㅇㅅㅏㄴㅍㅜㅇㅇㅜㄴㅇㅑㅇㅔ ㄷㅗㄹㅏㅇㅗㄴㅡㄴ ㅈㅕ ㅅㆍㄹㆍㅁㅇㅏ\")"
   ]
  },
  {
   "cell_type": "code",
   "execution_count": 30,
   "metadata": {},
   "outputs": [
    {
     "data": {
      "text/plain": [
       "'\\ue38f아 \\ue650은 \\ue38f아 李太白이 노든 \\ue38f아'"
      ]
     },
     "execution_count": 30,
     "metadata": {},
     "output_type": "execute_result"
    }
   ],
   "source": [
    "lines_df_small.loc['L10007731'].Text"
   ]
  },
  {
   "cell_type": "code",
   "execution_count": null,
   "metadata": {},
   "outputs": [],
   "source": []
  }
 ],
 "metadata": {
  "kernelspec": {
   "display_name": "tf3",
   "language": "python",
   "name": "tf3"
  },
  "language_info": {
   "codemirror_mode": {
    "name": "ipython",
    "version": 3
   },
   "file_extension": ".py",
   "mimetype": "text/x-python",
   "name": "python",
   "nbconvert_exporter": "python",
   "pygments_lexer": "ipython3",
   "version": "3.6.10"
  },
  "toc": {
   "base_numbering": 1,
   "nav_menu": {},
   "number_sections": true,
   "sideBar": true,
   "skip_h1_title": false,
   "title_cell": "Table of Contents",
   "title_sidebar": "Contents",
   "toc_cell": false,
   "toc_position": {},
   "toc_section_display": true,
   "toc_window_display": false
  }
 },
 "nbformat": 4,
 "nbformat_minor": 2
}
