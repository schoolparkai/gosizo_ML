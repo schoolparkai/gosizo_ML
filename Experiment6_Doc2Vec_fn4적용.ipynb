{
 "cells": [
  {
   "cell_type": "code",
   "execution_count": 1,
   "metadata": {},
   "outputs": [],
   "source": [
    "import pandas as pd\n",
    "from gensim import utils\n",
    "from gensim.models.doc2vec import TaggedDocument\n",
    "from gensim.models import Doc2Vec\n",
    "from gensim.parsing.preprocessing import preprocess_string, remove_stopwords\n",
    "import random\n",
    "\n",
    "import warnings\n",
    "warnings.filterwarnings(\"ignore\")"
   ]
  },
  {
   "cell_type": "code",
   "execution_count": 2,
   "metadata": {},
   "outputs": [],
   "source": [
    "pd.set_option('display.max_colwidth', -1)"
   ]
  },
  {
   "cell_type": "code",
   "execution_count": null,
   "metadata": {},
   "outputs": [],
   "source": []
  },
  {
   "cell_type": "markdown",
   "metadata": {},
   "source": [
    "# Load Sizo Lines"
   ]
  },
  {
   "cell_type": "code",
   "execution_count": 3,
   "metadata": {
    "scrolled": true
   },
   "outputs": [
    {
     "data": {
      "text/html": [
       "<div>\n",
       "<style scoped>\n",
       "    .dataframe tbody tr th:only-of-type {\n",
       "        vertical-align: middle;\n",
       "    }\n",
       "\n",
       "    .dataframe tbody tr th {\n",
       "        vertical-align: top;\n",
       "    }\n",
       "\n",
       "    .dataframe thead th {\n",
       "        text-align: right;\n",
       "    }\n",
       "</style>\n",
       "<table border=\"1\" class=\"dataframe\">\n",
       "  <thead>\n",
       "    <tr style=\"text-align: right;\">\n",
       "      <th></th>\n",
       "      <th>Text</th>\n",
       "      <th>Line_Num</th>\n",
       "      <th>Line</th>\n",
       "      <th>Pattern</th>\n",
       "      <th>Value</th>\n",
       "    </tr>\n",
       "    <tr>\n",
       "      <th>LineNumber</th>\n",
       "      <th></th>\n",
       "      <th></th>\n",
       "      <th></th>\n",
       "      <th></th>\n",
       "      <th></th>\n",
       "    </tr>\n",
       "  </thead>\n",
       "  <tbody>\n",
       "    <tr>\n",
       "      <th>L10000011</th>\n",
       "      <td>가노라 가노라 임아 언양 단천의 풍월 강산으로 가노라 임아</td>\n",
       "      <td>1</td>\n",
       "      <td>ㄱㅏㄴㅗㄹㅏ ㄱㅏㄴㅗㄹㅏ ㅇㅣㅁㅇㅏ ㅇㅓㄴㅇㅑㅇ ㄷㅏㄴㅊㅓㄴㅇㅡㅣ ㅍㅜㅇㅇㅜㅓㄹ ㄱㅏㅇㅅㅏㄴㅇㅡㄹㅗ ㄱㅏㄴㅗㄹㅏ ㅇㅣㅁㅇㅏ</td>\n",
       "      <td>NaN</td>\n",
       "      <td>1</td>\n",
       "    </tr>\n",
       "    <tr>\n",
       "      <th>L10019081</th>\n",
       "      <td>어듸야  소 모라 가는 노랑 듸궁이 더벙 머리</td>\n",
       "      <td>1</td>\n",
       "      <td>ㅇㅓㄷㅡㅣㅇㅑ ㅺㅣㄹㅺㅣㄹ ㅅㅗ ㅁㅗㄹㅏ ㄱㅏㄴㅡㄴ ㄴㅗㄹㅏㅇ ㄷㅡㅣㄱㅜㅇㅇㅣ ㄷㅓㅂㅓㅇ ㅁㅓㄹㅣ</td>\n",
       "      <td>NaN</td>\n",
       "      <td>1</td>\n",
       "    </tr>\n",
       "    <tr>\n",
       "      <th>L10022821</th>\n",
       "      <td>이년아 말 듯거라 굽고 나마 쟈질년아</td>\n",
       "      <td>1</td>\n",
       "      <td>ㅇㅣㄴㅕㄴㅇㅏ ㅁㅏㄹ ㄷㅡㅅㄱㅓㄹㅏ ㄱㅜㅂㄱㅗ ㄴㅏㅁㅏ ㅈㅑㅈㅣㄹㄴㅕㄴㅇㅏ</td>\n",
       "      <td>NaN</td>\n",
       "      <td>1</td>\n",
       "    </tr>\n",
       "    <tr>\n",
       "      <th>L10006771</th>\n",
       "      <td>눈아눈아 머르칠 눈아 두 손 장가락으로  질너 머르칠 눈아</td>\n",
       "      <td>1</td>\n",
       "      <td>ㄴㅜㄴㅇㅏㄴㅜㄴㅇㅏ ㅁㅓㄹㅡㅊㅣㄹ ㄴㅜㄴㅇㅏ ㄷㅜ ㅅㅗㄴ ㅈㅏㅇㄱㅏㄹㅏㄱㅇㅡㄹㅗ ㅺㅗㄱ ㅈㅣㄹㄴㅓ ㅁㅓㄹㅡㅊㅣㄹ ㄴㅜㄴㅇㅏ</td>\n",
       "      <td>NaN</td>\n",
       "      <td>1</td>\n",
       "    </tr>\n",
       "    <tr>\n",
       "      <th>L10007731</th>\n",
       "      <td>아 은 아 李太白이 노든 아</td>\n",
       "      <td>1</td>\n",
       "      <td>ㄷㆍㄹㅇㅏ ㅂㆍᇃㅇㅡㄴ ㄷㆍㄹㅇㅏ ㅇㅣㅌㅐㅂㅐㄱㅇㅣ ㄴㅗㄷㅡㄴ ㄷㆍㄹㅇㅏ</td>\n",
       "      <td>NaN</td>\n",
       "      <td>1</td>\n",
       "    </tr>\n",
       "    <tr>\n",
       "      <th>...</th>\n",
       "      <td>...</td>\n",
       "      <td>...</td>\n",
       "      <td>...</td>\n",
       "      <td>...</td>\n",
       "      <td>...</td>\n",
       "    </tr>\n",
       "    <tr>\n",
       "      <th>L10022011</th>\n",
       "      <td>우정워정며 歲月이 거의로다</td>\n",
       "      <td>1</td>\n",
       "      <td>ㅇㅜㅈㅓㅇㅇㅜㅓㅈㅓㅇㅎㆍㅁㅕ ㅅㅔㅇㅜㅓㄹㅇㅣ ㄱㅓㅇㅡㅣㄹㅗㄷㅏ</td>\n",
       "      <td>NaN</td>\n",
       "      <td>0</td>\n",
       "    </tr>\n",
       "    <tr>\n",
       "      <th>L10022361</th>\n",
       "      <td>渭城官 柳樹를 처음의 심근 은</td>\n",
       "      <td>1</td>\n",
       "      <td>ㅇㅜㅣㅅㅓㅇㄱㅗㅏㄴ ㅇㅠㅅㅜㄹㅡㄹ ㅊㅓㅇㅡㅁㅇㅡㅣ ㅅㅣㅁㄱㅡㄴ ㅼㅡㅇㅡㄴ</td>\n",
       "      <td>NaN</td>\n",
       "      <td>0</td>\n",
       "    </tr>\n",
       "    <tr>\n",
       "      <th>L10022711</th>\n",
       "      <td>銀河에 물이 지니 烏鵲橋 단말가</td>\n",
       "      <td>1</td>\n",
       "      <td>ㅇㅡㄴㅎㅏㅇㅔ ㅁㅜㄹㅇㅣ ㅈㅣㄴㅣ ㅇㅗㅈㅏㄱㄱㅛ ㅼㅡㄷㅏㄴㅁㅏㄹㄱㅏ</td>\n",
       "      <td>NaN</td>\n",
       "      <td>0</td>\n",
       "    </tr>\n",
       "    <tr>\n",
       "      <th>L10023081</th>\n",
       "      <td>니 몸에 가진 病이 두 가지 아니로다</td>\n",
       "      <td>1</td>\n",
       "      <td>ㄴㅣ ㅁㅗㅁㅇㅔ ㄱㅏㅈㅣㄴ ㅂㅕㅇㅇㅣ ㅎㆍㄴㄷㅜ ㄱㅏㅈㅣ ㅇㅏㄴㅣㄹㅗㄷㅏ</td>\n",
       "      <td>NaN</td>\n",
       "      <td>0</td>\n",
       "    </tr>\n",
       "    <tr>\n",
       "      <th>L10023431</th>\n",
       "      <td>離別이 불이 되니 肝腸을 노라</td>\n",
       "      <td>1</td>\n",
       "      <td>ㅇㅣㅂㅕㄹㅇㅣ ㅂㅜㄹㅇㅣ ㄷㅗㅣㄴㅣ ㄱㅏㄴㅈㅏㅇㅇㅡㄹ ㅌㆍㄴㅗㅁㆎㄹㅏ</td>\n",
       "      <td>NaN</td>\n",
       "      <td>0</td>\n",
       "    </tr>\n",
       "  </tbody>\n",
       "</table>\n",
       "<p>136 rows × 5 columns</p>\n",
       "</div>"
      ],
      "text/plain": [
       "                                         Text  Line_Num  \\\n",
       "LineNumber                                                \n",
       "L10000011   가노라 가노라 임아 언양 단천의 풍월 강산으로 가노라 임아   1          \n",
       "L10019081   어듸야  소 모라 가는 노랑 듸궁이 더벙 머리        1          \n",
       "L10022821   이년아 말 듯거라 굽고 나마 쟈질년아               1          \n",
       "L10006771   눈아눈아 머르칠 눈아 두 손 장가락으로  질너 머르칠 눈아  1          \n",
       "L10007731   아 은 아 李太白이 노든 아                1          \n",
       "...                                       ... ..          \n",
       "L10022011   우정워정며 歲月이 거의로다                    1          \n",
       "L10022361   渭城官 柳樹를 처음의 심근 은                  1          \n",
       "L10022711   銀河에 물이 지니 烏鵲橋 단말가                 1          \n",
       "L10023081   니 몸에 가진 病이 두 가지 아니로다              1          \n",
       "L10023431   離別이 불이 되니 肝腸을 노라                 1          \n",
       "\n",
       "                                                                            Line  \\\n",
       "LineNumber                                                                         \n",
       "L10000011   ㄱㅏㄴㅗㄹㅏ ㄱㅏㄴㅗㄹㅏ ㅇㅣㅁㅇㅏ ㅇㅓㄴㅇㅑㅇ ㄷㅏㄴㅊㅓㄴㅇㅡㅣ ㅍㅜㅇㅇㅜㅓㄹ ㄱㅏㅇㅅㅏㄴㅇㅡㄹㅗ ㄱㅏㄴㅗㄹㅏ ㅇㅣㅁㅇㅏ   \n",
       "L10019081   ㅇㅓㄷㅡㅣㅇㅑ ㅺㅣㄹㅺㅣㄹ ㅅㅗ ㅁㅗㄹㅏ ㄱㅏㄴㅡㄴ ㄴㅗㄹㅏㅇ ㄷㅡㅣㄱㅜㅇㅇㅣ ㄷㅓㅂㅓㅇ ㅁㅓㄹㅣ                 \n",
       "L10022821   ㅇㅣㄴㅕㄴㅇㅏ ㅁㅏㄹ ㄷㅡㅅㄱㅓㄹㅏ ㄱㅜㅂㄱㅗ ㄴㅏㅁㅏ ㅈㅑㅈㅣㄹㄴㅕㄴㅇㅏ                              \n",
       "L10006771   ㄴㅜㄴㅇㅏㄴㅜㄴㅇㅏ ㅁㅓㄹㅡㅊㅣㄹ ㄴㅜㄴㅇㅏ ㄷㅜ ㅅㅗㄴ ㅈㅏㅇㄱㅏㄹㅏㄱㅇㅡㄹㅗ ㅺㅗㄱ ㅈㅣㄹㄴㅓ ㅁㅓㄹㅡㅊㅣㄹ ㄴㅜㄴㅇㅏ   \n",
       "L10007731   ㄷㆍㄹㅇㅏ ㅂㆍᇃㅇㅡㄴ ㄷㆍㄹㅇㅏ ㅇㅣㅌㅐㅂㅐㄱㅇㅣ ㄴㅗㄷㅡㄴ ㄷㆍㄹㅇㅏ                               \n",
       "...                                                                          ...   \n",
       "L10022011   ㅇㅜㅈㅓㅇㅇㅜㅓㅈㅓㅇㅎㆍㅁㅕ ㅅㅔㅇㅜㅓㄹㅇㅣ ㄱㅓㅇㅡㅣㄹㅗㄷㅏ                                     \n",
       "L10022361   ㅇㅜㅣㅅㅓㅇㄱㅗㅏㄴ ㅇㅠㅅㅜㄹㅡㄹ ㅊㅓㅇㅡㅁㅇㅡㅣ ㅅㅣㅁㄱㅡㄴ ㅼㅡㅇㅡㄴ                               \n",
       "L10022711   ㅇㅡㄴㅎㅏㅇㅔ ㅁㅜㄹㅇㅣ ㅈㅣㄴㅣ ㅇㅗㅈㅏㄱㄱㅛ ㅼㅡㄷㅏㄴㅁㅏㄹㄱㅏ                                  \n",
       "L10023081   ㄴㅣ ㅁㅗㅁㅇㅔ ㄱㅏㅈㅣㄴ ㅂㅕㅇㅇㅣ ㅎㆍㄴㄷㅜ ㄱㅏㅈㅣ ㅇㅏㄴㅣㄹㅗㄷㅏ                               \n",
       "L10023431   ㅇㅣㅂㅕㄹㅇㅣ ㅂㅜㄹㅇㅣ ㄷㅗㅣㄴㅣ ㄱㅏㄴㅈㅏㅇㅇㅡㄹ ㅌㆍㄴㅗㅁㆎㄹㅏ                                 \n",
       "\n",
       "           Pattern  Value  \n",
       "LineNumber                 \n",
       "L10000011   NaN     1      \n",
       "L10019081   NaN     1      \n",
       "L10022821   NaN     1      \n",
       "L10006771   NaN     1      \n",
       "L10007731   NaN     1      \n",
       "...         ...    ..      \n",
       "L10022011   NaN     0      \n",
       "L10022361   NaN     0      \n",
       "L10022711   NaN     0      \n",
       "L10023081   NaN     0      \n",
       "L10023431   NaN     0      \n",
       "\n",
       "[136 rows x 5 columns]"
      ]
     },
     "execution_count": 3,
     "metadata": {},
     "output_type": "execute_result"
    }
   ],
   "source": [
    "import numpy as np\n",
    "import pandas as pd\n",
    "import os\n",
    "\n",
    "base_dir = 'D:/Data'\n",
    "excel_file = 'N68_2.xlsx'\n",
    "excel_dir = os.path.join(base_dir, excel_file)\n",
    "\n",
    "lines_df = pd.read_excel(excel_dir, encoding = 'ISO-8859-1',\n",
    "                              sheet_name = 'Sheet1', \n",
    "                              header = 0, \n",
    "                              names = ['LineNumber','Text','Line_Num','Line', 'Pattern','Value'], \n",
    "                              dtype = { 'LineNumber': str, \n",
    "                                        'Line_Num': np.int64, \n",
    "                                        'Text': str, \n",
    "                                        'Line': str, \n",
    "                                        'Pattern': str, \n",
    "                                        'Value': np.int64 \n",
    "                                       }, \n",
    "                              index_col = 'LineNumber', \n",
    "                              na_values = 'NaN', \n",
    "                              comment = '#')\n",
    "lines_df"
   ]
  },
  {
   "cell_type": "code",
   "execution_count": 4,
   "metadata": {},
   "outputs": [
    {
     "data": {
      "text/plain": [
       "136"
      ]
     },
     "execution_count": 4,
     "metadata": {},
     "output_type": "execute_result"
    }
   ],
   "source": [
    "len(lines_df)"
   ]
  },
  {
   "cell_type": "code",
   "execution_count": 5,
   "metadata": {
    "scrolled": true
   },
   "outputs": [
    {
     "data": {
      "text/plain": [
       "Text        136\n",
       "Line_Num    1  \n",
       "Line        135\n",
       "Pattern     0  \n",
       "Value       2  \n",
       "dtype: int64"
      ]
     },
     "execution_count": 5,
     "metadata": {},
     "output_type": "execute_result"
    }
   ],
   "source": [
    "lines_df.nunique()"
   ]
  },
  {
   "cell_type": "markdown",
   "metadata": {},
   "source": [
    "# Fn4 : to_word_chunk4"
   ]
  },
  {
   "cell_type": "code",
   "execution_count": 6,
   "metadata": {},
   "outputs": [],
   "source": [
    "# 함수 : New Syllable centered word chunks(1개의 문장으로 만듦) - Train 용\n",
    "# rule 1 : vowel + Blank(\"B로 표시\") - 하나의 문장으로 만들기 위해 빈칸 더해 줌\n",
    "# rule 2 : 2-5개 음절 chunk\n",
    "# 중첩시킨 어절말음소\n",
    "\n",
    "def to_word_chunk4(text_list): \n",
    "    test_list_new = []\n",
    "    for each_item in text_list:\n",
    "        each_list = each_item.split() \n",
    "        d=[]\n",
    "        e =\"\"    \n",
    "        for each_word in each_list:\n",
    "            if len(each_word)/3 < 1.7:\n",
    "                e+=each_word[:-2]+\" \"\n",
    "                e+=each_word[-2:]+\"B \"           \n",
    "                e+=each_word[-1:]+\"B \"   # 중첩시킨 어절말음소\n",
    "            \n",
    "            elif len(each_word)/3 >= 1.7 and  len(each_word)/3 < 3:\n",
    "                e+=each_word[:2]+\" \"\n",
    "                e+=each_word[2:-2]+\" \"\n",
    "                e+=each_word[-2:]+\"B \"   \n",
    "                e+=each_word[-1:]+\"B \"   # 중첩시킨 어절말음소\n",
    "            elif len(each_word)/3 >=3 and len(each_word)/3 <5:\n",
    "                e+=each_word[:2]+\" \"\n",
    "                e+=each_word[2:-4]+\" \"       \n",
    "                e+=each_word[-4:-2]+\" \"\n",
    "                e+=each_word[-2:]+\"B \"   \n",
    "                e+=each_word[-1:]+\"B \"   # 중첩시킨 어절말음소\n",
    "            elif len(each_word)/3 >=5 and len(each_word)/3 <8:\n",
    "                e+=each_word[:2]+\" \"\n",
    "                e+=each_word[2:4]+\" \"        \n",
    "                e+=each_word[4:6]+\" \" \n",
    "                e+=each_word[6:-2]+\" \"\n",
    "                e+=each_word[-2:]+\"B \"   \n",
    "                e+=each_word[-1:]+\"B \"   # 중첩시킨 어절말음소\n",
    "            elif len(each_word)/3 >=8 and len(each_word)/3 <11:\n",
    "                e+=each_word[:2]+\" \"\n",
    "                e+=each_word[2:5]+\" \"  \n",
    "                e+=each_word[5:8]+\" \" \n",
    "                e+=each_word[8:12]+\" \"\n",
    "                e+=each_word[12:15]+\" \" \n",
    "                e+=each_word[15:19]+\" \"\n",
    "                e+=each_word[19:-2]+\" \"\n",
    "                e+=each_word[-2:]+\"B \"   \n",
    "                e+=each_word[-1:]+\"B \"   # 중첩시킨 어절말음소\n",
    "            else: \n",
    "                e+=each_word[:2]+\" \"\n",
    "                e+=each_word[2:5]+\" \"    \n",
    "                e+=each_word[5:8]+\" \" \n",
    "                e+=each_word[8:12]+\" \"\n",
    "                e+=each_word[12:15]+\" \" \n",
    "                e+=each_word[15:19]+\" \"\n",
    "                e+=each_word[19:22]+\" \"\n",
    "                e+=each_word[22:26]+\" \"\n",
    "                e+=each_word[26:-2]+\" \"\n",
    "                e+=each_word[-2:]+\"B \"\n",
    "                e+=each_word[-1:]+\"B \"   # 중첩시킨 어절말음소\n",
    "        test_list_new.append(e)\n",
    "    return test_list_new"
   ]
  },
  {
   "cell_type": "code",
   "execution_count": 7,
   "metadata": {},
   "outputs": [],
   "source": [
    "text = lines_df.iloc[:,2].values.tolist() \n",
    "chunked_text = to_word_chunk4(text)"
   ]
  },
  {
   "cell_type": "code",
   "execution_count": 8,
   "metadata": {},
   "outputs": [],
   "source": [
    "lines_df[\"chunked_text\"] = chunked_text"
   ]
  },
  {
   "cell_type": "code",
   "execution_count": 9,
   "metadata": {},
   "outputs": [
    {
     "data": {
      "text/html": [
       "<div>\n",
       "<style scoped>\n",
       "    .dataframe tbody tr th:only-of-type {\n",
       "        vertical-align: middle;\n",
       "    }\n",
       "\n",
       "    .dataframe tbody tr th {\n",
       "        vertical-align: top;\n",
       "    }\n",
       "\n",
       "    .dataframe thead th {\n",
       "        text-align: right;\n",
       "    }\n",
       "</style>\n",
       "<table border=\"1\" class=\"dataframe\">\n",
       "  <thead>\n",
       "    <tr style=\"text-align: right;\">\n",
       "      <th></th>\n",
       "      <th>Text</th>\n",
       "      <th>Line_Num</th>\n",
       "      <th>Line</th>\n",
       "      <th>Pattern</th>\n",
       "      <th>Value</th>\n",
       "      <th>chunked_text</th>\n",
       "    </tr>\n",
       "    <tr>\n",
       "      <th>LineNumber</th>\n",
       "      <th></th>\n",
       "      <th></th>\n",
       "      <th></th>\n",
       "      <th></th>\n",
       "      <th></th>\n",
       "      <th></th>\n",
       "    </tr>\n",
       "  </thead>\n",
       "  <tbody>\n",
       "    <tr>\n",
       "      <th>L10000011</th>\n",
       "      <td>가노라 가노라 임아 언양 단천의 풍월 강산으로 가노라 임아</td>\n",
       "      <td>1</td>\n",
       "      <td>ㄱㅏㄴㅗㄹㅏ ㄱㅏㄴㅗㄹㅏ ㅇㅣㅁㅇㅏ ㅇㅓㄴㅇㅑㅇ ㄷㅏㄴㅊㅓㄴㅇㅡㅣ ㅍㅜㅇㅇㅜㅓㄹ ㄱㅏㅇㅅㅏㄴㅇㅡㄹㅗ ㄱㅏㄴㅗㄹㅏ ㅇㅣㅁㅇㅏ</td>\n",
       "      <td>NaN</td>\n",
       "      <td>1</td>\n",
       "      <td>ㄱㅏ ㄴㅗ ㄹㅏB ㅏB ㄱㅏ ㄴㅗ ㄹㅏB ㅏB ㅇㅣㅁ ㅇㅏB ㅏB ㅇㅓ ㄴㅇ ㅑㅇB ㅇB ㄷㅏ ㄴㅊㅓ ㄴㅇ ㅡㅣB ㅣB ㅍㅜ ㅇㅇㅜ ㅓㄹB ㄹB ㄱㅏ ㅇㅅㅏㄴ ㅇㅡ ㄹㅗB ㅗB ㄱㅏ ㄴㅗ ㄹㅏB ㅏB ㅇㅣㅁ ㅇㅏB ㅏB</td>\n",
       "    </tr>\n",
       "    <tr>\n",
       "      <th>L10019081</th>\n",
       "      <td>어듸야  소 모라 가는 노랑 듸궁이 더벙 머리</td>\n",
       "      <td>1</td>\n",
       "      <td>ㅇㅓㄷㅡㅣㅇㅑ ㅺㅣㄹㅺㅣㄹ ㅅㅗ ㅁㅗㄹㅏ ㄱㅏㄴㅡㄴ ㄴㅗㄹㅏㅇ ㄷㅡㅣㄱㅜㅇㅇㅣ ㄷㅓㅂㅓㅇ ㅁㅓㄹㅣ</td>\n",
       "      <td>NaN</td>\n",
       "      <td>1</td>\n",
       "      <td>ㅇㅓ ㄷㅡㅣ ㅇㅑB ㅑB ㅺㅣ ㄹㅺ ㅣㄹB ㄹB  ㅅㅗB ㅗB ㅁㅗ ㄹㅏB ㅏB ㄱㅏㄴ ㅡㄴB ㄴB ㄴㅗㄹ ㅏㅇB ㅇB ㄷㅡ ㅣㄱㅜㅇ ㅇㅣB ㅣB ㄷㅓㅂ ㅓㅇB ㅇB ㅁㅓ ㄹㅣB ㅣB</td>\n",
       "    </tr>\n",
       "    <tr>\n",
       "      <th>L10022821</th>\n",
       "      <td>이년아 말 듯거라 굽고 나마 쟈질년아</td>\n",
       "      <td>1</td>\n",
       "      <td>ㅇㅣㄴㅕㄴㅇㅏ ㅁㅏㄹ ㄷㅡㅅㄱㅓㄹㅏ ㄱㅜㅂㄱㅗ ㄴㅏㅁㅏ ㅈㅑㅈㅣㄹㄴㅕㄴㅇㅏ</td>\n",
       "      <td>NaN</td>\n",
       "      <td>1</td>\n",
       "      <td>ㅇㅣ ㄴㅕㄴ ㅇㅏB ㅏB ㅁ ㅏㄹB ㄹB ㄷㅡ ㅅㄱㅓ ㄹㅏB ㅏB ㄱㅜㅂ ㄱㅗB ㅗB ㄴㅏ ㅁㅏB ㅏB ㅈㅑ ㅈㅣㄹㄴ ㅕㄴ ㅇㅏB ㅏB</td>\n",
       "    </tr>\n",
       "    <tr>\n",
       "      <th>L10006771</th>\n",
       "      <td>눈아눈아 머르칠 눈아 두 손 장가락으로  질너 머르칠 눈아</td>\n",
       "      <td>1</td>\n",
       "      <td>ㄴㅜㄴㅇㅏㄴㅜㄴㅇㅏ ㅁㅓㄹㅡㅊㅣㄹ ㄴㅜㄴㅇㅏ ㄷㅜ ㅅㅗㄴ ㅈㅏㅇㄱㅏㄹㅏㄱㅇㅡㄹㅗ ㅺㅗㄱ ㅈㅣㄹㄴㅓ ㅁㅓㄹㅡㅊㅣㄹ ㄴㅜㄴㅇㅏ</td>\n",
       "      <td>NaN</td>\n",
       "      <td>1</td>\n",
       "      <td>ㄴㅜ ㄴㅇㅏㄴ ㅜㄴ ㅇㅏB ㅏB ㅁㅓ ㄹㅡㅊ ㅣㄹB ㄹB ㄴㅜㄴ ㅇㅏB ㅏB  ㄷㅜB ㅜB ㅅ ㅗㄴB ㄴB ㅈㅏ ㅇㄱㅏㄹㅏㄱ ㅇㅡ ㄹㅗB ㅗB ㅺ ㅗㄱB ㄱB ㅈㅣㄹ ㄴㅓB ㅓB ㅁㅓ ㄹㅡㅊ ㅣㄹB ㄹB ㄴㅜㄴ ㅇㅏB ㅏB</td>\n",
       "    </tr>\n",
       "    <tr>\n",
       "      <th>L10007731</th>\n",
       "      <td>아 은 아 李太白이 노든 아</td>\n",
       "      <td>1</td>\n",
       "      <td>ㄷㆍㄹㅇㅏ ㅂㆍᇃㅇㅡㄴ ㄷㆍㄹㅇㅏ ㅇㅣㅌㅐㅂㅐㄱㅇㅣ ㄴㅗㄷㅡㄴ ㄷㆍㄹㅇㅏ</td>\n",
       "      <td>NaN</td>\n",
       "      <td>1</td>\n",
       "      <td>ㄷㆍㄹ ㅇㅏB ㅏB ㅂㆍ ᇃㅇ ㅡㄴB ㄴB ㄷㆍㄹ ㅇㅏB ㅏB ㅇㅣ ㅌㅐㅂ ㅐㄱ ㅇㅣB ㅣB ㄴㅗㄷ ㅡㄴB ㄴB ㄷㆍㄹ ㅇㅏB ㅏB</td>\n",
       "    </tr>\n",
       "    <tr>\n",
       "      <th>...</th>\n",
       "      <td>...</td>\n",
       "      <td>...</td>\n",
       "      <td>...</td>\n",
       "      <td>...</td>\n",
       "      <td>...</td>\n",
       "      <td>...</td>\n",
       "    </tr>\n",
       "    <tr>\n",
       "      <th>L10022011</th>\n",
       "      <td>우정워정며 歲月이 거의로다</td>\n",
       "      <td>1</td>\n",
       "      <td>ㅇㅜㅈㅓㅇㅇㅜㅓㅈㅓㅇㅎㆍㅁㅕ ㅅㅔㅇㅜㅓㄹㅇㅣ ㄱㅓㅇㅡㅣㄹㅗㄷㅏ</td>\n",
       "      <td>NaN</td>\n",
       "      <td>0</td>\n",
       "      <td>ㅇㅜ ㅈㅓ ㅇㅇ ㅜㅓㅈㅓㅇㅎㆍ ㅁㅕB ㅕB ㅅㅔ ㅇㅜㅓㄹ ㅇㅣB ㅣB ㄱㅓ ㅇㅡㅣ ㄹㅗ ㄷㅏB ㅏB</td>\n",
       "    </tr>\n",
       "    <tr>\n",
       "      <th>L10022361</th>\n",
       "      <td>渭城官 柳樹를 처음의 심근 은</td>\n",
       "      <td>1</td>\n",
       "      <td>ㅇㅜㅣㅅㅓㅇㄱㅗㅏㄴ ㅇㅠㅅㅜㄹㅡㄹ ㅊㅓㅇㅡㅁㅇㅡㅣ ㅅㅣㅁㄱㅡㄴ ㅼㅡㅇㅡㄴ</td>\n",
       "      <td>NaN</td>\n",
       "      <td>0</td>\n",
       "      <td>ㅇㅜ ㅣㅅㅓㅇ ㄱㅗ ㅏㄴB ㄴB ㅇㅠ ㅅㅜㄹ ㅡㄹB ㄹB ㅊㅓ ㅇㅡㅁㅇ ㅡㅣB ㅣB ㅅㅣ ㅁㄱ ㅡㄴB ㄴB ㅼㅡㅇ ㅡㄴB ㄴB</td>\n",
       "    </tr>\n",
       "    <tr>\n",
       "      <th>L10022711</th>\n",
       "      <td>銀河에 물이 지니 烏鵲橋 단말가</td>\n",
       "      <td>1</td>\n",
       "      <td>ㅇㅡㄴㅎㅏㅇㅔ ㅁㅜㄹㅇㅣ ㅈㅣㄴㅣ ㅇㅗㅈㅏㄱㄱㅛ ㅼㅡㄷㅏㄴㅁㅏㄹㄱㅏ</td>\n",
       "      <td>NaN</td>\n",
       "      <td>0</td>\n",
       "      <td>ㅇㅡ ㄴㅎㅏ ㅇㅔB ㅔB ㅁㅜㄹ ㅇㅣB ㅣB ㅈㅣ ㄴㅣB ㅣB ㅇㅗ ㅈㅏㄱ ㄱㅛB ㅛB ㅼㅡ ㄷㅏㄴㅁ ㅏㄹ ㄱㅏB ㅏB</td>\n",
       "    </tr>\n",
       "    <tr>\n",
       "      <th>L10023081</th>\n",
       "      <td>니 몸에 가진 病이 두 가지 아니로다</td>\n",
       "      <td>1</td>\n",
       "      <td>ㄴㅣ ㅁㅗㅁㅇㅔ ㄱㅏㅈㅣㄴ ㅂㅕㅇㅇㅣ ㅎㆍㄴㄷㅜ ㄱㅏㅈㅣ ㅇㅏㄴㅣㄹㅗㄷㅏ</td>\n",
       "      <td>NaN</td>\n",
       "      <td>0</td>\n",
       "      <td>ㄴㅣB ㅣB ㅁㅗㅁ ㅇㅔB ㅔB ㄱㅏㅈ ㅣㄴB ㄴB ㅂㅕㅇ ㅇㅣB ㅣB ㅎㆍㄴ ㄷㅜB ㅜB ㄱㅏ ㅈㅣB ㅣB ㅇㅏ ㄴㅣㄹㅗ ㄷㅏB ㅏB</td>\n",
       "    </tr>\n",
       "    <tr>\n",
       "      <th>L10023431</th>\n",
       "      <td>離別이 불이 되니 肝腸을 노라</td>\n",
       "      <td>1</td>\n",
       "      <td>ㅇㅣㅂㅕㄹㅇㅣ ㅂㅜㄹㅇㅣ ㄷㅗㅣㄴㅣ ㄱㅏㄴㅈㅏㅇㅇㅡㄹ ㅌㆍㄴㅗㅁㆎㄹㅏ</td>\n",
       "      <td>NaN</td>\n",
       "      <td>0</td>\n",
       "      <td>ㅇㅣ ㅂㅕㄹ ㅇㅣB ㅣB ㅂㅜㄹ ㅇㅣB ㅣB ㄷㅗㅣ ㄴㅣB ㅣB ㄱㅏ ㄴㅈㅏ ㅇㅇ ㅡㄹB ㄹB ㅌㆍ ㄴㅗㅁㆎ ㄹㅏB ㅏB</td>\n",
       "    </tr>\n",
       "  </tbody>\n",
       "</table>\n",
       "<p>136 rows × 6 columns</p>\n",
       "</div>"
      ],
      "text/plain": [
       "                                         Text  Line_Num  \\\n",
       "LineNumber                                                \n",
       "L10000011   가노라 가노라 임아 언양 단천의 풍월 강산으로 가노라 임아   1          \n",
       "L10019081   어듸야  소 모라 가는 노랑 듸궁이 더벙 머리        1          \n",
       "L10022821   이년아 말 듯거라 굽고 나마 쟈질년아               1          \n",
       "L10006771   눈아눈아 머르칠 눈아 두 손 장가락으로  질너 머르칠 눈아  1          \n",
       "L10007731   아 은 아 李太白이 노든 아                1          \n",
       "...                                       ... ..          \n",
       "L10022011   우정워정며 歲月이 거의로다                    1          \n",
       "L10022361   渭城官 柳樹를 처음의 심근 은                  1          \n",
       "L10022711   銀河에 물이 지니 烏鵲橋 단말가                 1          \n",
       "L10023081   니 몸에 가진 病이 두 가지 아니로다              1          \n",
       "L10023431   離別이 불이 되니 肝腸을 노라                 1          \n",
       "\n",
       "                                                                            Line  \\\n",
       "LineNumber                                                                         \n",
       "L10000011   ㄱㅏㄴㅗㄹㅏ ㄱㅏㄴㅗㄹㅏ ㅇㅣㅁㅇㅏ ㅇㅓㄴㅇㅑㅇ ㄷㅏㄴㅊㅓㄴㅇㅡㅣ ㅍㅜㅇㅇㅜㅓㄹ ㄱㅏㅇㅅㅏㄴㅇㅡㄹㅗ ㄱㅏㄴㅗㄹㅏ ㅇㅣㅁㅇㅏ   \n",
       "L10019081   ㅇㅓㄷㅡㅣㅇㅑ ㅺㅣㄹㅺㅣㄹ ㅅㅗ ㅁㅗㄹㅏ ㄱㅏㄴㅡㄴ ㄴㅗㄹㅏㅇ ㄷㅡㅣㄱㅜㅇㅇㅣ ㄷㅓㅂㅓㅇ ㅁㅓㄹㅣ                 \n",
       "L10022821   ㅇㅣㄴㅕㄴㅇㅏ ㅁㅏㄹ ㄷㅡㅅㄱㅓㄹㅏ ㄱㅜㅂㄱㅗ ㄴㅏㅁㅏ ㅈㅑㅈㅣㄹㄴㅕㄴㅇㅏ                              \n",
       "L10006771   ㄴㅜㄴㅇㅏㄴㅜㄴㅇㅏ ㅁㅓㄹㅡㅊㅣㄹ ㄴㅜㄴㅇㅏ ㄷㅜ ㅅㅗㄴ ㅈㅏㅇㄱㅏㄹㅏㄱㅇㅡㄹㅗ ㅺㅗㄱ ㅈㅣㄹㄴㅓ ㅁㅓㄹㅡㅊㅣㄹ ㄴㅜㄴㅇㅏ   \n",
       "L10007731   ㄷㆍㄹㅇㅏ ㅂㆍᇃㅇㅡㄴ ㄷㆍㄹㅇㅏ ㅇㅣㅌㅐㅂㅐㄱㅇㅣ ㄴㅗㄷㅡㄴ ㄷㆍㄹㅇㅏ                               \n",
       "...                                                                          ...   \n",
       "L10022011   ㅇㅜㅈㅓㅇㅇㅜㅓㅈㅓㅇㅎㆍㅁㅕ ㅅㅔㅇㅜㅓㄹㅇㅣ ㄱㅓㅇㅡㅣㄹㅗㄷㅏ                                     \n",
       "L10022361   ㅇㅜㅣㅅㅓㅇㄱㅗㅏㄴ ㅇㅠㅅㅜㄹㅡㄹ ㅊㅓㅇㅡㅁㅇㅡㅣ ㅅㅣㅁㄱㅡㄴ ㅼㅡㅇㅡㄴ                               \n",
       "L10022711   ㅇㅡㄴㅎㅏㅇㅔ ㅁㅜㄹㅇㅣ ㅈㅣㄴㅣ ㅇㅗㅈㅏㄱㄱㅛ ㅼㅡㄷㅏㄴㅁㅏㄹㄱㅏ                                  \n",
       "L10023081   ㄴㅣ ㅁㅗㅁㅇㅔ ㄱㅏㅈㅣㄴ ㅂㅕㅇㅇㅣ ㅎㆍㄴㄷㅜ ㄱㅏㅈㅣ ㅇㅏㄴㅣㄹㅗㄷㅏ                               \n",
       "L10023431   ㅇㅣㅂㅕㄹㅇㅣ ㅂㅜㄹㅇㅣ ㄷㅗㅣㄴㅣ ㄱㅏㄴㅈㅏㅇㅇㅡㄹ ㅌㆍㄴㅗㅁㆎㄹㅏ                                 \n",
       "\n",
       "           Pattern  Value  \\\n",
       "LineNumber                  \n",
       "L10000011   NaN     1       \n",
       "L10019081   NaN     1       \n",
       "L10022821   NaN     1       \n",
       "L10006771   NaN     1       \n",
       "L10007731   NaN     1       \n",
       "...         ...    ..       \n",
       "L10022011   NaN     0       \n",
       "L10022361   NaN     0       \n",
       "L10022711   NaN     0       \n",
       "L10023081   NaN     0       \n",
       "L10023431   NaN     0       \n",
       "\n",
       "                                                                                                                             chunked_text  \n",
       "LineNumber                                                                                                                                 \n",
       "L10000011   ㄱㅏ ㄴㅗ ㄹㅏB ㅏB ㄱㅏ ㄴㅗ ㄹㅏB ㅏB ㅇㅣㅁ ㅇㅏB ㅏB ㅇㅓ ㄴㅇ ㅑㅇB ㅇB ㄷㅏ ㄴㅊㅓ ㄴㅇ ㅡㅣB ㅣB ㅍㅜ ㅇㅇㅜ ㅓㄹB ㄹB ㄱㅏ ㅇㅅㅏㄴ ㅇㅡ ㄹㅗB ㅗB ㄱㅏ ㄴㅗ ㄹㅏB ㅏB ㅇㅣㅁ ㅇㅏB ㅏB     \n",
       "L10019081   ㅇㅓ ㄷㅡㅣ ㅇㅑB ㅑB ㅺㅣ ㄹㅺ ㅣㄹB ㄹB  ㅅㅗB ㅗB ㅁㅗ ㄹㅏB ㅏB ㄱㅏㄴ ㅡㄴB ㄴB ㄴㅗㄹ ㅏㅇB ㅇB ㄷㅡ ㅣㄱㅜㅇ ㅇㅣB ㅣB ㄷㅓㅂ ㅓㅇB ㅇB ㅁㅓ ㄹㅣB ㅣB                         \n",
       "L10022821   ㅇㅣ ㄴㅕㄴ ㅇㅏB ㅏB ㅁ ㅏㄹB ㄹB ㄷㅡ ㅅㄱㅓ ㄹㅏB ㅏB ㄱㅜㅂ ㄱㅗB ㅗB ㄴㅏ ㅁㅏB ㅏB ㅈㅑ ㅈㅣㄹㄴ ㅕㄴ ㅇㅏB ㅏB                                                    \n",
       "L10006771   ㄴㅜ ㄴㅇㅏㄴ ㅜㄴ ㅇㅏB ㅏB ㅁㅓ ㄹㅡㅊ ㅣㄹB ㄹB ㄴㅜㄴ ㅇㅏB ㅏB  ㄷㅜB ㅜB ㅅ ㅗㄴB ㄴB ㅈㅏ ㅇㄱㅏㄹㅏㄱ ㅇㅡ ㄹㅗB ㅗB ㅺ ㅗㄱB ㄱB ㅈㅣㄹ ㄴㅓB ㅓB ㅁㅓ ㄹㅡㅊ ㅣㄹB ㄹB ㄴㅜㄴ ㅇㅏB ㅏB   \n",
       "L10007731   ㄷㆍㄹ ㅇㅏB ㅏB ㅂㆍ ᇃㅇ ㅡㄴB ㄴB ㄷㆍㄹ ㅇㅏB ㅏB ㅇㅣ ㅌㅐㅂ ㅐㄱ ㅇㅣB ㅣB ㄴㅗㄷ ㅡㄴB ㄴB ㄷㆍㄹ ㅇㅏB ㅏB                                                      \n",
       "...                                                                                                                                   ...  \n",
       "L10022011   ㅇㅜ ㅈㅓ ㅇㅇ ㅜㅓㅈㅓㅇㅎㆍ ㅁㅕB ㅕB ㅅㅔ ㅇㅜㅓㄹ ㅇㅣB ㅣB ㄱㅓ ㅇㅡㅣ ㄹㅗ ㄷㅏB ㅏB                                                                        \n",
       "L10022361   ㅇㅜ ㅣㅅㅓㅇ ㄱㅗ ㅏㄴB ㄴB ㅇㅠ ㅅㅜㄹ ㅡㄹB ㄹB ㅊㅓ ㅇㅡㅁㅇ ㅡㅣB ㅣB ㅅㅣ ㅁㄱ ㅡㄴB ㄴB ㅼㅡㅇ ㅡㄴB ㄴB                                                         \n",
       "L10022711   ㅇㅡ ㄴㅎㅏ ㅇㅔB ㅔB ㅁㅜㄹ ㅇㅣB ㅣB ㅈㅣ ㄴㅣB ㅣB ㅇㅗ ㅈㅏㄱ ㄱㅛB ㅛB ㅼㅡ ㄷㅏㄴㅁ ㅏㄹ ㄱㅏB ㅏB                                                             \n",
       "L10023081    ㄴㅣB ㅣB ㅁㅗㅁ ㅇㅔB ㅔB ㄱㅏㅈ ㅣㄴB ㄴB ㅂㅕㅇ ㅇㅣB ㅣB ㅎㆍㄴ ㄷㅜB ㅜB ㄱㅏ ㅈㅣB ㅣB ㅇㅏ ㄴㅣㄹㅗ ㄷㅏB ㅏB                                                   \n",
       "L10023431   ㅇㅣ ㅂㅕㄹ ㅇㅣB ㅣB ㅂㅜㄹ ㅇㅣB ㅣB ㄷㅗㅣ ㄴㅣB ㅣB ㄱㅏ ㄴㅈㅏ ㅇㅇ ㅡㄹB ㄹB ㅌㆍ ㄴㅗㅁㆎ ㄹㅏB ㅏB                                                            \n",
       "\n",
       "[136 rows x 6 columns]"
      ]
     },
     "execution_count": 9,
     "metadata": {},
     "output_type": "execute_result"
    }
   ],
   "source": [
    "lines_df"
   ]
  },
  {
   "cell_type": "code",
   "execution_count": 10,
   "metadata": {},
   "outputs": [],
   "source": [
    "lines_df_small = lines_df.head(130)"
   ]
  },
  {
   "cell_type": "code",
   "execution_count": 11,
   "metadata": {},
   "outputs": [],
   "source": [
    "from gensim.parsing.preprocessing import remove_stopwords\n",
    "from gensim.utils import simple_preprocess\n",
    "\n",
    "def text_to_tokens(text):\n",
    "    text = text.lower()\n",
    "    text = remove_stopwords(text)\n",
    "    tokens = simple_preprocess(text)\n",
    "    return tokens"
   ]
  },
  {
   "cell_type": "code",
   "execution_count": 12,
   "metadata": {},
   "outputs": [],
   "source": [
    "class DocumentDataset(object):\n",
    "    \n",
    "    def __init__(self, data:pd.DataFrame, column):\n",
    "        document = data[column].apply(self.preprocess)\n",
    "        self.documents = [ TaggedDocument( text, [index]) \n",
    "                          for index, text in document.iteritems() ]\n",
    "      \n",
    "    def preprocess(self, document):\n",
    "        return preprocess_string(remove_stopwords(document))\n",
    "        \n",
    "    def __iter__(self):\n",
    "        for document in self.documents:\n",
    "            yield documents\n",
    "            \n",
    "    def tagged_documents(self, shuffle=False):\n",
    "        if shuffle:\n",
    "            random.shuffle(self.documents)\n",
    "        return self.documents"
   ]
  },
  {
   "cell_type": "code",
   "execution_count": 13,
   "metadata": {},
   "outputs": [],
   "source": [
    "documents_dataset = DocumentDataset(lines_df_small, 'chunked_text')"
   ]
  },
  {
   "cell_type": "code",
   "execution_count": null,
   "metadata": {},
   "outputs": [],
   "source": []
  },
  {
   "cell_type": "markdown",
   "metadata": {},
   "source": [
    "# Document Vector Model 적용"
   ]
  },
  {
   "cell_type": "code",
   "execution_count": 14,
   "metadata": {},
   "outputs": [],
   "source": [
    "docVecModel = Doc2Vec(min_count=3, window=10, vector_size=50, sample=1e-4, negative=2, workers=8) #sample=1e-4,\n",
    "docVecModel.build_vocab(documents_dataset.tagged_documents())"
   ]
  },
  {
   "cell_type": "code",
   "execution_count": 15,
   "metadata": {},
   "outputs": [],
   "source": [
    "docVecModel.train(documents_dataset.tagged_documents(shuffle=True),\n",
    "            total_examples = docVecModel.corpus_count,\n",
    "           epochs=1000)"
   ]
  },
  {
   "cell_type": "code",
   "execution_count": 16,
   "metadata": {},
   "outputs": [
    {
     "data": {
      "text/plain": [
       "130"
      ]
     },
     "execution_count": 16,
     "metadata": {},
     "output_type": "execute_result"
    }
   ],
   "source": [
    "docVecModel.corpus_count"
   ]
  },
  {
   "cell_type": "code",
   "execution_count": 17,
   "metadata": {},
   "outputs": [],
   "source": [
    "docVecModel.save('../data/SizoChunkedLinesModel.d2v')"
   ]
  },
  {
   "cell_type": "code",
   "execution_count": 18,
   "metadata": {},
   "outputs": [],
   "source": [
    "docVecModel = Doc2Vec.load('../data/SizoChunkedLinesModel.d2v')"
   ]
  },
  {
   "cell_type": "code",
   "execution_count": 19,
   "metadata": {},
   "outputs": [],
   "source": [
    "#for vector in docVecModel.docvecs:\n",
    "#    print(vector)"
   ]
  },
  {
   "cell_type": "code",
   "execution_count": 20,
   "metadata": {},
   "outputs": [
    {
     "data": {
      "text/plain": [
       "array([-0.0156796 ,  0.10184   ,  0.16432877,  0.07946766, -0.08168074,\n",
       "        0.11750377,  0.10874845, -0.14887062, -0.06080911, -0.00085134,\n",
       "        0.09201589, -0.08543468, -0.00735056, -0.0885784 ,  0.05277268,\n",
       "       -0.12409167,  0.12613533,  0.23549129,  0.01335937,  0.07665166,\n",
       "       -0.00840778, -0.0761473 ,  0.13513139, -0.12002914,  0.13245061,\n",
       "       -0.16327257, -0.22346729, -0.14672124,  0.16609117, -0.25906715,\n",
       "        0.06049349,  0.07330301, -0.00921918,  0.11115108,  0.27042702,\n",
       "       -0.13110456,  0.00371228,  0.14397633,  0.12403417, -0.08236711,\n",
       "        0.10854165, -0.04235735,  0.07261125, -0.06253559,  0.09460592,\n",
       "        0.00923117, -0.10891037, -0.10845595, -0.13944702, -0.21420696],\n",
       "      dtype=float32)"
      ]
     },
     "execution_count": 20,
     "metadata": {},
     "output_type": "execute_result"
    }
   ],
   "source": [
    "docVecModel['L10007731']"
   ]
  },
  {
   "cell_type": "code",
   "execution_count": 21,
   "metadata": {},
   "outputs": [],
   "source": [
    "import matplotlib.pyplot as plt\n",
    "plt.style.use('fivethirtyeight')\n",
    "\n",
    "def show_image(vector, line):\n",
    "    fig, ax = plt.subplots(1,1, figsize=(10, 2))\n",
    "    ax.tick_params(axis='both', \n",
    "                   which='both',\n",
    "                   left=False, \n",
    "                   bottom=False, \n",
    "                   top=False,\n",
    "                   labelleft=False, \n",
    "                   labelbottom=False)\n",
    "    ax.grid(False)\n",
    "    print(line)\n",
    "    ax.bar(range(len(vector)), vector, 0.5)\n",
    "   \n",
    "    \n",
    "def show_movie_line(line_number):\n",
    "    line = lines_df_small.loc[line_number].chunked_text  #lines_df_small.ix[line_number].Line \n",
    "    Text = lines_df_small.loc[line_number].Text\n",
    "    doc_vector = docVecModel.docvecs[line_number]\n",
    "    show_image(doc_vector, Text) #line\n",
    "    "
   ]
  },
  {
   "cell_type": "code",
   "execution_count": 22,
   "metadata": {},
   "outputs": [
    {
     "name": "stdout",
     "output_type": "stream",
     "text": [
      "아 은 아 李太白이 노든 아\n"
     ]
    },
    {
     "data": {
      "image/png": "[encoded data removed]",
      "text/plain": [
       "<Figure size 720x144 with 1 Axes>"
      ]
     },
     "metadata": {},
     "output_type": "display_data"
    }
   ],
   "source": [
    "show_movie_line('L10007731')"
   ]
  },
  {
   "cell_type": "code",
   "execution_count": 23,
   "metadata": {},
   "outputs": [
    {
     "data": {
      "text/plain": [
       "[('L10006771', 0.7588074803352356),\n",
       " ('L10002591', 0.7522750496864319),\n",
       " ('L10017021', 0.7476882934570312),\n",
       " ('L10006511', 0.7469296455383301),\n",
       " ('L10010521', 0.7434442043304443),\n",
       " ('L10010601', 0.743423342704773),\n",
       " ('L10029611', 0.7431269884109497),\n",
       " ('L10001801', 0.7403550148010254),\n",
       " ('L10013001', 0.740184485912323),\n",
       " ('L10015051', 0.7391748428344727)]"
      ]
     },
     "execution_count": 23,
     "metadata": {},
     "output_type": "execute_result"
    }
   ],
   "source": [
    "docVecModel.docvecs.most_similar('L10007731')"
   ]
  },
  {
   "cell_type": "code",
   "execution_count": 24,
   "metadata": {},
   "outputs": [
    {
     "name": "stdout",
     "output_type": "stream",
     "text": [
      "終南山 누에머리 긋헤 밤中마치 凶히 우 부헝아\n"
     ]
    },
    {
     "data": {
      "image/png": "[encoded data removed]",
      "text/plain": [
       "<Figure size 720x144 with 1 Axes>"
      ]
     },
     "metadata": {},
     "output_type": "display_data"
    }
   ],
   "source": [
    "show_movie_line('L10026171')"
   ]
  },
  {
   "cell_type": "code",
   "execution_count": 25,
   "metadata": {},
   "outputs": [
    {
     "data": {
      "text/plain": [
       "array([ 0.00781652,  0.01783188,  0.01565289, -0.00313276, -0.03253237,\n",
       "        0.00662894,  0.00301219, -0.01692228, -0.03165832, -0.00830965,\n",
       "       -0.01642405, -0.03094878, -0.01720328, -0.01000983, -0.02176079,\n",
       "        0.01549648,  0.05422593,  0.05755646, -0.01630368,  0.05006571,\n",
       "       -0.02260428,  0.00702661,  0.01518944, -0.00721295,  0.06446532,\n",
       "       -0.05380328, -0.01019946, -0.02787638, -0.00993816, -0.01523982,\n",
       "       -0.02584521, -0.02992073, -0.02084124,  0.03663574,  0.05468442,\n",
       "       -0.01784375, -0.01041457,  0.01056699, -0.00656677, -0.02567619,\n",
       "        0.03055078,  0.00227143, -0.01622975, -0.07298906,  0.02240117,\n",
       "       -0.01703164,  0.0206474 , -0.03056839, -0.03796698, -0.02949647],\n",
       "      dtype=float32)"
      ]
     },
     "execution_count": 25,
     "metadata": {},
     "output_type": "execute_result"
    }
   ],
   "source": [
    "docVecModel['L10019151']"
   ]
  },
  {
   "cell_type": "code",
   "execution_count": 26,
   "metadata": {},
   "outputs": [],
   "source": [
    "def to_vector(sentence):\n",
    "    cleaned = preprocess_string(sentence)\n",
    "    docVector = docVecModel.infer_vector(cleaned)\n",
    "    return docVector"
   ]
  },
  {
   "cell_type": "code",
   "execution_count": 27,
   "metadata": {},
   "outputs": [
    {
     "name": "stdout",
     "output_type": "stream",
     "text": [
      "아 은 아 李太白이 노든 아\n"
     ]
    },
    {
     "data": {
      "image/png": "[encoded data removed]",
      "text/plain": [
       "<Figure size 720x144 with 1 Axes>"
      ]
     },
     "metadata": {},
     "output_type": "display_data"
    }
   ],
   "source": [
    "show_movie_line('L10007731')"
   ]
  },
  {
   "cell_type": "code",
   "execution_count": 28,
   "metadata": {},
   "outputs": [
    {
     "name": "stdout",
     "output_type": "stream",
     "text": [
      "ㅇㅓㄹㅡㄴㅈㅑ ㄴㅓㅊㅜㄹㅣㅇㅑ ㅇㅔㅇㅓㄹㅡㄴㅈㅑ ㅂㅏㄱㄴㅓㅊㅜㄹㅣㅇㅑ\n"
     ]
    },
    {
     "data": {
      "image/png": "[encoded data removed]",
      "text/plain": [
       "<Figure size 720x144 with 1 Axes>"
      ]
     },
     "metadata": {},
     "output_type": "display_data"
    }
   ],
   "source": [
    "line = \"ㅇㅓㄹㅡㄴㅈㅑ ㄴㅓㅊㅜㄹㅣㅇㅑ ㅇㅔㅇㅓㄹㅡㄴㅈㅑ ㅂㅏㄱㄴㅓㅊㅜㄹㅣㅇㅑ\"\n",
    "show_image(to_vector(\"ㅇㅓㄹㅡㄴㅈㅑ ㄴㅓㅊㅜㄹㅣㅇㅑ ㅇㅔㅇㅓㄹㅡㄴㅈㅑ ㅂㅏㄱㄴㅓㅊㅜㄹㅣㅇㅑ\"), line)"
   ]
  },
  {
   "cell_type": "code",
   "execution_count": 29,
   "metadata": {},
   "outputs": [
    {
     "data": {
      "text/plain": [
       "['ㄱㅏ ㄴㅗ ㄹㅏB ㅏB ㄱㅏ ㄴㅗ ㄹㅏB ㅏB ㅇㅣㅁ ㅇㅏB ㅏB ㅇㅓ ㄴㅇ ㅑㅇB ㅇB ㄷㅏ ㄴㅊㅓ ㄴㅇ ㅡㅣB ㅣB ㅍㅜ ㅇㅇㅜ ㅓㄹB ㄹB ㄱㅏ ㅇㅅㅏㄴ ㅇㅡ ㄹㅗB ㅗB ㄱㅏ ㄴㅗ ㄹㅏB ㅏB ㅇㅣㅁ ㅇㅏB ㅏB ',\n",
       " 'ㅂㅐ ㄱㅅㅓㄹ ㅇㅣB ㅣB ㅈㆍ ㅈㆍㅈ ㅣㄴB ㄴB ㄱㅗㄹ ㅇㅔB ㅔB ㄱㅜ ㄹㅜㅁ ㅇㅣB ㅣB ㅁㅓ ㅎㅡㄹㅔ ㄹㅏB ㅏB ',\n",
       " 'ㅅㅣ ㅂㅈㅐㅇ ㅡㄹB ㄹB ㄱㅕ ㅇㅇ ㅕㅇ ㅇㅗㄱㅅㅏㄱㅇㅕㄴㅎㆍ ㄴㅣB ㅣB ㄱㅡ ㅁㄱ ㅏㅇ ㅈㅣㅅㅏㅇㅇㅣ ㅇㅗB ㅗB ㅇㅜ ㅓㄹㅂㅗㅇㅈㅓㄴ ㅇㅣ ㄹㅏB ㅏB ',\n",
       " 'ㄷㅜ ㄱㅕㄴ ㅇㅏB ㅏB ㅇㅜ ㅈㅣㅁㅏ ㄹㅏB ㅏB ㅇㅣ ㅈㅔ ㅇㅑB ㅑB  ㄴㆎB ㆎB ㅇㅗ ㅏㅅㄴㅗ ㄹㅏB ㅏB ',\n",
       " 'ㅅㆎㅂ ㅕㄱB ㄱB  ㅂㅣB ㅣB ㅇㅣ ㄹㄱ ㆎㄴB ㄴB ㄴㅏ ㄹㅇ ㅡㅣB ㅣB ㅇㅣ ㄹㄱㅓ ㅅㅡ ㄹㅏB ㅏB ㅇㅏ ㅎㅡㅣㄷ ㅡㄹ ㅇㅏB ㅏB ',\n",
       " 'ㅁㅏ ㄴㅎㅏㄱㅊㅓ ㄴㅂ ㅗㅇB ㅇB ㅇㅜ ㄴㅅㅣㅁ ㅊㅓ ㅇㅔB ㅔB ㄷㅜ ㄱㅖㄹ ㅑㅇ ㅇㅣB ㅣB ㅂㅏ ㅅㅊ ㅓㄹB ㄹB ㄱㅏ ㄹㅏB ㅏB ',\n",
       " 'ㄴㅗ ㄱㅇ ㅡㅁB ㅁB ㅂㅏㅇ ㅊㅗB ㅗB ㅇㅜ ㄱㅓㅈ ㅣㄴB ㄴB ㄱㅗㄹ ㅇㅔB ㅔB ㅺㅚ ㅺㅗㄹㅣ ㄹㅏB ㅏB ㅇㅜㄴ ㆍㄴB ㄴB  ㅈㅕB ㅕB ㅺㅚ ㅺㅗㄹㅣ ㅅㆎ ㅇㅑB ㅑB ',\n",
       " 'ㄱㅗ ㅇㅅㅏㄴ ㄹㅣB ㅣB  ㅈㅓB ㅓB ㄱㅏㄴ ㅏㄴB ㄴB ㄷㅏㄹ ㅇㅔB ㅔB ㅎㅗㄴ ㅈㅏB ㅏB ㅇㅜㄴ ㅏㄴB ㄴB  ㅈㅓB ㅓB ㄷㅜ ㄱㅕㄴ ㅇㅏB ㅏB ',\n",
       " 'ㅂㅗ ㄱㅎㅡㅣ ㅆㅣB ㅣB ㅅㅓ ㄱㅖㅎㅜ ㄹㅗB ㅗB ㄹㅕㄱ ㄷㅐB ㅐB ㅇㅣ ㄴㅁ ㅜㄹB ㄹB  ㄴㆎB ㆎB ㅇㅏ ㄴㅗ ㄹㅏB ㅏB ',\n",
       " LineNumber\n",
       " L10018731    ㅇ ㅏㅂB ㅂB ㄴㆎ ㄴㅏB ㅏB ㄷ ㅜㅣB ㅣB ㄴㆎ ㄴㅏB ㅏB ㅈㅜㅇ ㅇㅔB ㅔB  ㅅㅗB ㅗB ㅁㅓ ㄱㄱㅣㄴ ㆍㄴB ㄴB ㅇㅏ ㅎㅡㅣㄴㅗㅁㄷ ㅡㄹ ㄹㅏB ㅏB \n",
       " L10018731    ㅇ ㅏㅂB ㅂB ㄴㆎ ㄴㅏB ㅏB ㄷ ㅜㅣB ㅣB ㄴㆎ ㄴㅏB ㅏB ㅈㅜㅇ ㅇㅔB ㅔB  ㅅㅗB ㅗB ㅁㅓ ㄱㄱㅣㄴ ㆍㄴB ㄴB ㅇㅏ ㅎㅡㅣㄴㅗㅁㄷ ㅡㄹ ㄹㅏB ㅏB \n",
       " Name: chunked_text, dtype: object]"
      ]
     },
     "execution_count": 29,
     "metadata": {},
     "output_type": "execute_result"
    }
   ],
   "source": [
    "def similar_movie_lines(sentence):\n",
    "    vector = to_vector(sentence)\n",
    "    similar_vectors = docVecModel.docvecs.most_similar(positive=[vector])\n",
    "    similar_lines = [ lines_df.loc[line[0]].chunked_text for line in similar_vectors]\n",
    "    return similar_lines\n",
    "\n",
    "similar_movie_lines(\"ㄱㅗㅇㅅㅏㄴㅍㅜㅇㅇㅜㄴㅇㅑㅇㅔ ㄷㅗㄹㅏㅇㅗㄴㅡㄴ ㅈㅕ ㅅㆍㄹㆍㅁㅇㅏ\")"
   ]
  },
  {
   "cell_type": "code",
   "execution_count": 30,
   "metadata": {},
   "outputs": [
    {
     "data": {
      "text/plain": [
       "'\\ue38f아 \\ue650은 \\ue38f아 李太白이 노든 \\ue38f아'"
      ]
     },
     "execution_count": 30,
     "metadata": {},
     "output_type": "execute_result"
    }
   ],
   "source": [
    "lines_df_small.loc['L10007731'].Text"
   ]
  },
  {
   "cell_type": "code",
   "execution_count": null,
   "metadata": {},
   "outputs": [],
   "source": []
  }
 ],
 "metadata": {
  "kernelspec": {
   "display_name": "tf3",
   "language": "python",
   "name": "tf3"
  },
  "language_info": {
   "codemirror_mode": {
    "name": "ipython",
    "version": 3
   },
   "file_extension": ".py",
   "mimetype": "text/x-python",
   "name": "python",
   "nbconvert_exporter": "python",
   "pygments_lexer": "ipython3",
   "version": "3.6.10"
  },
  "toc": {
   "base_numbering": 1,
   "nav_menu": {},
   "number_sections": true,
   "sideBar": true,
   "skip_h1_title": false,
   "title_cell": "Table of Contents",
   "title_sidebar": "Contents",
   "toc_cell": false,
   "toc_position": {
    "height": "calc(100% - 180px)",
    "left": "10px",
    "top": "150px",
    "width": "285px"
   },
   "toc_section_display": true,
   "toc_window_display": false
  }
 },
 "nbformat": 4,
 "nbformat_minor": 2
}
